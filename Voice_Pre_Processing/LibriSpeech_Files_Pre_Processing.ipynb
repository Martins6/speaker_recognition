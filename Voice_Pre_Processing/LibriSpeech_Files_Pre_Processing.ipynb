{
 "metadata": {
  "language_info": {
   "codemirror_mode": {
    "name": "ipython",
    "version": 3
   },
   "file_extension": ".py",
   "mimetype": "text/x-python",
   "name": "python",
   "nbconvert_exporter": "python",
   "pygments_lexer": "ipython3",
   "version": "3.8.5-final"
  },
  "orig_nbformat": 2,
  "kernelspec": {
   "name": "python3",
   "display_name": "Python 3"
  }
 },
 "nbformat": 4,
 "nbformat_minor": 2,
 "cells": [
  {
   "source": [
    "# Pre-Processing of LibriSpeech's audio files\n",
    "\n",
    "This is the link to the source: http://www.openslr.org/12/"
   ],
   "cell_type": "markdown",
   "metadata": {}
  },
  {
   "cell_type": "code",
   "execution_count": 1,
   "metadata": {},
   "outputs": [],
   "source": [
    "import pandas as pd\n",
    "import random\n",
    "\n",
    "from pathlib import Path\n",
    "import os"
   ]
  },
  {
   "cell_type": "code",
   "execution_count": 2,
   "metadata": {},
   "outputs": [],
   "source": [
    "# Set current working dir\n",
    "os.chdir(Path(\"/home/adriel_martins/Documents/voice_recognition\"))\n",
    "data_folder = Path('LibriSpeech')"
   ]
  },
  {
   "source": [
    "## Extracting meta-data for each audio file"
   ],
   "cell_type": "markdown",
   "metadata": {}
  },
  {
   "cell_type": "code",
   "execution_count": 3,
   "metadata": {},
   "outputs": [
    {
     "output_type": "stream",
     "name": "stdout",
     "text": [
      "train-clean-100\nBOOKS.TXT\nSPEAKERS.TXT\nLICENSE.TXT\nCHAPTERS.TXT\nREADME.TXT\n"
     ]
    }
   ],
   "source": [
    "for i in data_folder.iterdir():\n",
    "    print(i.name)"
   ]
  },
  {
   "cell_type": "code",
   "execution_count": 4,
   "metadata": {
    "tags": []
   },
   "outputs": [
    {
     "output_type": "execute_result",
     "data": {
      "text/plain": [
       "   id sex\n",
       "0  19   F\n",
       "1  26   M\n",
       "2  27   M\n",
       "3  32   F\n",
       "4  39   F\n",
       "5  40   F\n",
       "6  60   M\n",
       "7  78   M\n",
       "8  83   F\n",
       "9  87   F"
      ],
      "text/html": "<div>\n<style scoped>\n    .dataframe tbody tr th:only-of-type {\n        vertical-align: middle;\n    }\n\n    .dataframe tbody tr th {\n        vertical-align: top;\n    }\n\n    .dataframe thead th {\n        text-align: right;\n    }\n</style>\n<table border=\"1\" class=\"dataframe\">\n  <thead>\n    <tr style=\"text-align: right;\">\n      <th></th>\n      <th>id</th>\n      <th>sex</th>\n    </tr>\n  </thead>\n  <tbody>\n    <tr>\n      <th>0</th>\n      <td>19</td>\n      <td>F</td>\n    </tr>\n    <tr>\n      <th>1</th>\n      <td>26</td>\n      <td>M</td>\n    </tr>\n    <tr>\n      <th>2</th>\n      <td>27</td>\n      <td>M</td>\n    </tr>\n    <tr>\n      <th>3</th>\n      <td>32</td>\n      <td>F</td>\n    </tr>\n    <tr>\n      <th>4</th>\n      <td>39</td>\n      <td>F</td>\n    </tr>\n    <tr>\n      <th>5</th>\n      <td>40</td>\n      <td>F</td>\n    </tr>\n    <tr>\n      <th>6</th>\n      <td>60</td>\n      <td>M</td>\n    </tr>\n    <tr>\n      <th>7</th>\n      <td>78</td>\n      <td>M</td>\n    </tr>\n    <tr>\n      <th>8</th>\n      <td>83</td>\n      <td>F</td>\n    </tr>\n    <tr>\n      <th>9</th>\n      <td>87</td>\n      <td>F</td>\n    </tr>\n  </tbody>\n</table>\n</div>"
     },
     "metadata": {},
     "execution_count": 4
    }
   ],
   "source": [
    "# The .txt is divides the data with \"|\" for each row.\n",
    "# So let us build a function to extract the target data.\n",
    "\"\"\"\n",
    ";ID  |SEX| SUBSET           |MINUTES| NAME\n",
    "14   | F | train-clean-360  | 25.03 | Kristin LeMoine\n",
    "16   | F | train-clean-360  | 25.11 | Alys AtteWater\n",
    "\"\"\"\n",
    "\n",
    "def line_data_extraction(line, proj):\n",
    "    \"\"\" Extracting id and sex from SPEAKERS.TXT\n",
    "\n",
    "    Args: \n",
    "    line [str]\n",
    "    cols [list]\n",
    "    proj [str]: which subproject we are interested\n",
    "\n",
    "    # Returns 'cols' components extracted from each 'line'.\n",
    "    \"\"\"\n",
    "\n",
    "    if proj not in line:\n",
    "        return None\n",
    "\n",
    "    # First clear whitespaces\n",
    "    line = line.replace(' ', '')\n",
    "    line_split = line.split('|')\n",
    "\n",
    "    return line_split[0:2]\n",
    "\n",
    "\n",
    "speakers = data_folder / 'SPEAKERS.TXT'\n",
    "\n",
    "sub_proj = 'train-clean-100'\n",
    "\n",
    "df_speaker = pd.DataFrame(columns=('id', 'sex'))\n",
    "\n",
    "with speakers.open() as f: \n",
    "    for index, line in enumerate(f):\n",
    "        data = line_data_extraction(line, sub_proj)\n",
    "        if isinstance(data, list) and data is not None:\n",
    "            values_to_add = {'id': data[0], 'sex': data[1]}\n",
    "            row_to_add = pd.Series(values_to_add)\n",
    "            df_speaker = df_speaker.append(row_to_add, ignore_index = True)\n",
    "            \n",
    "df_speaker.head(10)"
   ]
  },
  {
   "source": [
    "## Organizing audio files"
   ],
   "cell_type": "markdown",
   "metadata": {}
  },
  {
   "cell_type": "code",
   "execution_count": 5,
   "metadata": {},
   "outputs": [
    {
     "output_type": "stream",
     "name": "stdout",
     "text": [
      "train-clean-100\nBOOKS.TXT\nSPEAKERS.TXT\nLICENSE.TXT\nCHAPTERS.TXT\nREADME.TXT\n"
     ]
    }
   ],
   "source": [
    "for i in data_folder.iterdir():\n",
    "    print(i.name)"
   ]
  },
  {
   "cell_type": "code",
   "execution_count": 6,
   "metadata": {},
   "outputs": [
    {
     "output_type": "execute_result",
     "data": {
      "text/plain": [
       "       id sex\n",
       "178  5808   M\n",
       "108  2911   M\n",
       "102  2764   F\n",
       "225  7859   F\n",
       "61   1098   F"
      ],
      "text/html": "<div>\n<style scoped>\n    .dataframe tbody tr th:only-of-type {\n        vertical-align: middle;\n    }\n\n    .dataframe tbody tr th {\n        vertical-align: top;\n    }\n\n    .dataframe thead th {\n        text-align: right;\n    }\n</style>\n<table border=\"1\" class=\"dataframe\">\n  <thead>\n    <tr style=\"text-align: right;\">\n      <th></th>\n      <th>id</th>\n      <th>sex</th>\n    </tr>\n  </thead>\n  <tbody>\n    <tr>\n      <th>178</th>\n      <td>5808</td>\n      <td>M</td>\n    </tr>\n    <tr>\n      <th>108</th>\n      <td>2911</td>\n      <td>M</td>\n    </tr>\n    <tr>\n      <th>102</th>\n      <td>2764</td>\n      <td>F</td>\n    </tr>\n    <tr>\n      <th>225</th>\n      <td>7859</td>\n      <td>F</td>\n    </tr>\n    <tr>\n      <th>61</th>\n      <td>1098</td>\n      <td>F</td>\n    </tr>\n  </tbody>\n</table>\n</div>"
     },
     "metadata": {},
     "execution_count": 6
    }
   ],
   "source": [
    "def randomly_select_speakers(df_speaker, n_each):\n",
    "    \"\"\" Select n random speakers equally divided between men and women.\n",
    "\n",
    "    Returns: \n",
    "    men [list],\n",
    "    women [list]\n",
    "    \"\"\"\n",
    "    df = df_speaker.groupby(['sex']).sample(n = n_each, replace = False)\n",
    "    \n",
    "    return df\n",
    "\n",
    "randomly_select_speakers(df_speaker, 50).sample(5)"
   ]
  },
  {
   "cell_type": "code",
   "execution_count": 7,
   "metadata": {
    "tags": []
   },
   "outputs": [
    {
     "output_type": "execute_result",
     "data": {
      "text/plain": [
       "    id             soundfile\n",
       "0  298  298-126791-0021.flac\n",
       "1  298  298-126791-0008.flac\n",
       "2  298  298-126791-0025.flac\n",
       "3  298  298-126791-0011.flac\n",
       "4  298  298-126791-0062.flac\n",
       "5  298  298-126791-0040.flac\n",
       "6  298  298-126791-0047.flac\n",
       "7  298  298-126791-0055.flac\n",
       "8  298  298-126791-0013.flac\n",
       "9  298  298-126791-0034.flac"
      ],
      "text/html": "<div>\n<style scoped>\n    .dataframe tbody tr th:only-of-type {\n        vertical-align: middle;\n    }\n\n    .dataframe tbody tr th {\n        vertical-align: top;\n    }\n\n    .dataframe thead th {\n        text-align: right;\n    }\n</style>\n<table border=\"1\" class=\"dataframe\">\n  <thead>\n    <tr style=\"text-align: right;\">\n      <th></th>\n      <th>id</th>\n      <th>soundfile</th>\n    </tr>\n  </thead>\n  <tbody>\n    <tr>\n      <th>0</th>\n      <td>298</td>\n      <td>298-126791-0021.flac</td>\n    </tr>\n    <tr>\n      <th>1</th>\n      <td>298</td>\n      <td>298-126791-0008.flac</td>\n    </tr>\n    <tr>\n      <th>2</th>\n      <td>298</td>\n      <td>298-126791-0025.flac</td>\n    </tr>\n    <tr>\n      <th>3</th>\n      <td>298</td>\n      <td>298-126791-0011.flac</td>\n    </tr>\n    <tr>\n      <th>4</th>\n      <td>298</td>\n      <td>298-126791-0062.flac</td>\n    </tr>\n    <tr>\n      <th>5</th>\n      <td>298</td>\n      <td>298-126791-0040.flac</td>\n    </tr>\n    <tr>\n      <th>6</th>\n      <td>298</td>\n      <td>298-126791-0047.flac</td>\n    </tr>\n    <tr>\n      <th>7</th>\n      <td>298</td>\n      <td>298-126791-0055.flac</td>\n    </tr>\n    <tr>\n      <th>8</th>\n      <td>298</td>\n      <td>298-126791-0013.flac</td>\n    </tr>\n    <tr>\n      <th>9</th>\n      <td>298</td>\n      <td>298-126791-0034.flac</td>\n    </tr>\n  </tbody>\n</table>\n</div>"
     },
     "metadata": {},
     "execution_count": 7
    }
   ],
   "source": [
    "def id_soundfiles_df(df_speaker, sound_files_folder, number_of_audio_files):\n",
    "    \"\"\" Create the dataframe of soundfiles.\n",
    "    \"\"\"\n",
    "    df = pd.DataFrame(columns=('id', 'soundfile'))\n",
    "\n",
    "    for speaker_id_folder in sound_files_folder.iterdir():\n",
    "        if df_speaker_sample.id.isin([speaker_id_folder.name]).any():\n",
    "            chapters_id_folders = [x for x in speaker_id_folder.iterdir()]\n",
    "            # Always pick the first folder and explore all the files.\n",
    "            # Also filtering for just the .flac sound files\n",
    "            audio_files = [x.name for x in chapters_id_folders[0].iterdir() if \".flac\" in x.name]\n",
    "            # Randomly selecting some number of files\n",
    "            # If there is less than what we wanted, then get the maximum number\n",
    "            try:\n",
    "                audio_files = random.sample(audio_files, k = number_of_audio_files)\n",
    "            except:\n",
    "                audio_files = audio_files\n",
    "            # Populating our dataframe\n",
    "            for i in audio_files:\n",
    "                values_to_add = {'id': speaker_id_folder.name,\n",
    "                'soundfile': i}\n",
    "                row_to_add = pd.Series(values_to_add)\n",
    "                df = df.append(row_to_add, ignore_index = True)\n",
    "\n",
    "    return(df)\n",
    "\n",
    "\n",
    "sound_files_folder = data_folder / 'train-clean-100'\n",
    "df_speaker_sample = randomly_select_speakers(df_speaker, 50)\n",
    "number_of_audio_files = 30\n",
    "\n",
    "df = id_soundfiles_df(df_speaker_sample, sound_files_folder, number_of_audio_files)\n",
    "df.head(10)"
   ]
  },
  {
   "source": [
    "## Writing out the data."
   ],
   "cell_type": "markdown",
   "metadata": {}
  },
  {
   "cell_type": "code",
   "execution_count": 8,
   "metadata": {},
   "outputs": [],
   "source": [
    "# Just to make the order a bit crazy\n",
    "df = df.sample(frac=1)\n",
    "df.to_csv(Path('Data/id_and_soundfiles_LibriSpeech.csv'), index=False)"
   ]
  }
 ]
}