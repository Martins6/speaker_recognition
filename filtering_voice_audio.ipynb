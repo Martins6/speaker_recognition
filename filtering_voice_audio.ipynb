{
 "metadata": {
  "language_info": {
   "codemirror_mode": {
    "name": "ipython",
    "version": 3
   },
   "file_extension": ".py",
   "mimetype": "text/x-python",
   "name": "python",
   "nbconvert_exporter": "python",
   "pygments_lexer": "ipython3",
   "version": "3.8.6-final"
  },
  "orig_nbformat": 2,
  "kernelspec": {
   "name": "python3",
   "display_name": "Python 3"
  }
 },
 "nbformat": 4,
 "nbformat_minor": 2,
 "cells": [
  {
   "cell_type": "code",
   "execution_count": null,
   "metadata": {},
   "outputs": [],
   "source": [
    "import numpy as np\n",
    "import pandas as pd\n",
    "from plotnine import *\n",
    "from scipy.io import wavfile"
   ]
  },
  {
   "cell_type": "code",
   "execution_count": null,
   "metadata": {},
   "outputs": [],
   "source": [
    "samplerate, data = wavfile.read('Data/microphone-results.wav')\n",
    "\n",
    "n = np.arange(len(data))\n",
    "\n",
    "df = pd.DataFrame({\n",
    "    'data': data,\n",
    "    'n':n\n",
    "})\n",
    "\n",
    "(ggplot(df, aes('n', 'data'))\n",
    " + geom_path())\n"
   ]
  },
  {
   "cell_type": "code",
   "execution_count": null,
   "metadata": {},
   "outputs": [],
   "source": [
    "\n",
    "def add_fft(df, target_col, samplerate):\n",
    "    \"\"\" Add all the 'fft package' to a dataframe.\n",
    "\n",
    "    Returns: pandas.DataFrame\n",
    "    \"\"\"\n",
    "    N = len(df.n)\n",
    "    \n",
    "    res = pd.DataFrame()\n",
    "    # Fast Fourier Transform\n",
    "    res['fft'] = np.fft.fft(df[target_col], N)\n",
    "    # Power Spectrum Density\n",
    "    res['PSD'] = res.fft * np.conj(res.fft) / N\n",
    "    res = res.astype({\"PSD\": float})\n",
    "    # Frequency Axis\n",
    "    res['freq'] = (samplerate/N) * df.n\n",
    "\n",
    "    return(res)\n",
    "\n",
    "\n",
    "df_fft = add_fft(df, 'data', samplerate)\n",
    "\n",
    "def plot_PSD(df):\n",
    "    # Scale down by 10^9\n",
    "    df['PSD_A'] = df.PSD/(10**9)\n",
    "    p = (\n",
    "        ggplot(df, aes('freq', 'PSD'))\n",
    "        + geom_path()\n",
    "        # The human voice frequency ranges from 85Hz to 255Hz.\n",
    "        + xlim(0, 255)\n",
    "        + ylab('PSD (10^-9)')\n",
    "    )\n",
    "\n",
    "    return(p)\n",
    "\n",
    "plot_PSD(df_fft)"
   ]
  },
  {
   "cell_type": "code",
   "execution_count": null,
   "metadata": {},
   "outputs": [],
   "source": [
    "def human_voice_only(df):\n",
    "    df = df.query('freq < 250 & freq >= 85')\n",
    "    return(df)\n",
    "\n",
    "df_fft = human_voice_only(df_fft)"
   ]
  },
  {
   "cell_type": "code",
   "execution_count": null,
   "metadata": {},
   "outputs": [],
   "source": [
    "f_filt = np.fft.ifft(df_fft.fft)\n",
    "\n",
    "wavfile.write('Data/clean_microphone.wav', samplerate, np.int16(f_filt))"
   ]
  }
 ]
}