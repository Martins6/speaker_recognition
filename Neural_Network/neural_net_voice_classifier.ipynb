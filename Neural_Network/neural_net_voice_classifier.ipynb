{
 "metadata": {
  "language_info": {
   "codemirror_mode": {
    "name": "ipython",
    "version": 3
   },
   "file_extension": ".py",
   "mimetype": "text/x-python",
   "name": "python",
   "nbconvert_exporter": "python",
   "pygments_lexer": "ipython3",
   "version": "3.8.5-final"
  },
  "orig_nbformat": 2,
  "kernelspec": {
   "name": "python3",
   "display_name": "Python 3"
  }
 },
 "nbformat": 4,
 "nbformat_minor": 2,
 "cells": [
  {
   "source": [
    "# Voice Recognition with Deep Learning"
   ],
   "cell_type": "markdown",
   "metadata": {}
  },
  {
   "cell_type": "code",
   "execution_count": 1,
   "metadata": {},
   "outputs": [],
   "source": [
    "# Data manipulation\n",
    "import pandas as pd \n",
    "import numpy as np \n",
    "\n",
    "# For preprocessing data\n",
    "from sklearn import preprocessing\n",
    "from sklearn.preprocessing import StandardScaler\n",
    "from sklearn.model_selection import train_test_split\n",
    "from sklearn.preprocessing import LabelEncoder\n",
    "from sklearn.preprocessing import OneHotEncoder\n",
    "\n",
    "# Neural Network\n",
    "import torch\n",
    "import torch.nn as nn\n",
    "import torch.nn.functional as F\n",
    "from torch import optim\n",
    "\n",
    "## Plotting data\n",
    "%matplotlib inline\n",
    "%config InlineBackend.figure_format = 'retina'\n",
    "\n",
    "import matplotlib.pyplot as plt\n",
    "\n",
    "import os\n",
    "from pathlib import Path\n",
    "# set current working dir\n",
    "os.chdir(Path('/home/adriel_martins/Documents/voice_recognition'))"
   ]
  },
  {
   "source": [
    "## Reading Data\n",
    "\n",
    "Our initial data comes from the numpy array that we made with the 'Signal_Feature_Extraction' notebook."
   ],
   "cell_type": "markdown",
   "metadata": {}
  },
  {
   "cell_type": "code",
   "execution_count": 2,
   "metadata": {},
   "outputs": [
    {
     "output_type": "execute_result",
     "data": {
      "text/plain": [
       "(array([-2.8934943e+02,  1.1061540e+02, -6.7378197e+01,  5.9304237e+01,\n",
       "        -1.2192383e+01,  1.1934175e+01, -1.8729237e+01, -8.4270678e+00,\n",
       "        -3.2374973e+00, -1.9537061e+00,  4.2954583e+00, -9.1186848e+00,\n",
       "         2.2428503e+00, -7.5789342e+00,  6.3945713e+00, -9.1815853e+00,\n",
       "        -3.6809595e+00,  2.1348295e+00, -9.2484159e+00, -2.6315665e+00,\n",
       "        -3.8728278e+00, -1.4796008e+00, -5.6235080e+00, -1.2539656e+00,\n",
       "        -3.3205054e+00, -2.6981230e+00, -2.1807770e-01,  4.8951811e-01,\n",
       "        -9.7734904e-01, -2.5707595e+00,  2.1395185e+00,  5.3256482e-01,\n",
       "         3.1392977e+00,  2.6830890e+00,  5.3470688e+00,  5.1368256e+00,\n",
       "         5.4506907e+00,  7.2125449e+00,  3.6787293e+00,  4.2946568e+00],\n",
       "       dtype=float32),\n",
       " array([0.57373434, 0.53213984, 0.53915375, 0.54935205, 0.6301245 ,\n",
       "        0.7092621 , 0.6864094 , 0.64795184, 0.6504194 , 0.58971924,\n",
       "        0.57070607, 0.5944857 ], dtype=float32),\n",
       " array([4.6172772e-02, 3.4533944e-02, 1.3171850e-02, 8.6589810e-03,\n",
       "        1.1060043e-01, 1.4365888e+00, 4.2669964e+00, 4.2673321e+00,\n",
       "        1.3615460e+00, 5.3727198e-01, 3.9379773e-01, 5.3639042e-01,\n",
       "        6.8092549e-01, 1.1242245e+00, 2.0911460e+00, 2.2873971e+00,\n",
       "        1.9569576e+00, 1.1858088e+00, 1.2505194e+00, 1.5259849e+00,\n",
       "        1.6163133e+00, 2.0496132e+00, 2.5442109e+00, 1.8973831e+00,\n",
       "        2.2288370e+00, 1.0513796e+00, 7.8884888e-01, 7.4003339e-01,\n",
       "        5.6580538e-01, 5.5943203e-01, 5.6025690e-01, 3.4653682e-01,\n",
       "        3.6020571e-01, 2.3833376e-01, 1.8439199e-01, 2.0863158e-01,\n",
       "        2.4873820e-01, 2.7563658e-01, 3.1144387e-01, 3.4286511e-01,\n",
       "        4.0320903e-01, 2.9173735e-01, 9.5299818e-02, 1.6401897e-01,\n",
       "        2.1799660e-01, 2.0220530e-01, 1.6714464e-01, 3.8170588e-01,\n",
       "        7.0110548e-01, 6.0610759e-01, 5.3514999e-01, 5.5900007e-01,\n",
       "        4.1302967e-01, 5.6744879e-01, 7.3108637e-01, 9.2004102e-01,\n",
       "        1.2214345e+00, 1.1630852e+00, 7.7512425e-01, 6.0791194e-01,\n",
       "        5.7208681e-01, 5.6188560e-01, 3.9242235e-01, 3.7212300e-01,\n",
       "        3.0193371e-01, 2.9554766e-01, 2.7010059e-01, 2.6181859e-01,\n",
       "        2.2667901e-01, 2.2482082e-01, 2.5557873e-01, 1.8477897e-01,\n",
       "        1.3637522e-01, 1.8839909e-01, 3.4942219e-01, 3.4021622e-01,\n",
       "        3.6732551e-01, 2.8914750e-01, 1.8740872e-01, 1.2798937e-01,\n",
       "        7.3476642e-02, 6.0419153e-02, 6.0068775e-02, 4.2312391e-02,\n",
       "        4.4777837e-02, 3.9439023e-02, 3.8472842e-02, 4.8576411e-02,\n",
       "        4.0328134e-02, 4.3875232e-02, 4.3317229e-02, 2.8930843e-02,\n",
       "        2.7975949e-02, 2.7550882e-02, 2.3703823e-02, 2.5111167e-02,\n",
       "        2.5321994e-02, 1.4064028e-02, 7.3612006e-03, 9.9747563e-03,\n",
       "        1.0278150e-02, 7.2131767e-03, 6.9522411e-03, 7.5495522e-03,\n",
       "        4.4228383e-03, 2.9401635e-03, 3.1340371e-03, 2.2565846e-03,\n",
       "        1.6014477e-03, 1.3649539e-03, 8.1001205e-04, 3.7883417e-04,\n",
       "        1.9671161e-04, 5.8578869e-05, 1.0641536e-05, 8.4317821e-07,\n",
       "        2.4484283e-08, 7.3400053e-10, 4.0027825e-10, 5.4823573e-10,\n",
       "        5.4748295e-10, 2.9828431e-10, 3.1105107e-10, 4.0813181e-10,\n",
       "        3.2285855e-10, 4.3378717e-10, 3.0602162e-10, 2.7837627e-10],\n",
       "       dtype=float32),\n",
       " array([18.37941071, 17.04600607, 18.31862355, 16.34676185, 18.62444125,\n",
       "        20.16738984, 44.83748783]),\n",
       " array([ 0.01113513, -0.00883514,  0.03394954, -0.00256268,  0.01102134,\n",
       "        -0.00081054]),\n",
       " 298)"
      ]
     },
     "metadata": {},
     "execution_count": 2
    }
   ],
   "source": [
    "# The next code loads the saved numpy array of our extracted features\n",
    "# The first 5 components are features, and the last one is the label.\n",
    "features_label = np.load(Path('Data/features_label.npy'), allow_pickle=True)\n",
    "features_label[0]"
   ]
  },
  {
   "cell_type": "code",
   "execution_count": 3,
   "metadata": {},
   "outputs": [],
   "source": [
    "# Creating our numpy arrays\n",
    "features = []\n",
    "for i in range(0, len(features_label)):\n",
    "    features.append(np.concatenate((features_label[i][0], features_label[i][1], \n",
    "                features_label[i][2], features_label[i][3],\n",
    "                features_label[i][4]), axis=0))\n",
    "labels = []\n",
    "for i in range(0, len(features_label)):\n",
    "    labels.append(np.array(features_label[i][5]))\n",
    "                \n",
    "X = np.array(features)\n",
    "y = np.array(labels)"
   ]
  },
  {
   "source": [
    "##  Preparing data: Hot Enconding and Pre-processing"
   ],
   "cell_type": "markdown",
   "metadata": {}
  },
  {
   "cell_type": "code",
   "execution_count": 4,
   "metadata": {},
   "outputs": [
    {
     "output_type": "stream",
     "name": "stdout",
     "text": [
      "298\n5\n"
     ]
    }
   ],
   "source": [
    "print(y[0])\n",
    "y = LabelEncoder().fit_transform(y)\n",
    "print(y[0])"
   ]
  },
  {
   "cell_type": "code",
   "execution_count": 5,
   "metadata": {},
   "outputs": [],
   "source": [
    "# Splitting between validation and training and testing\n",
    "X_train = X[:400]\n",
    "Y_train = y[:400]\n",
    "\n",
    "X_validation = X[400:450]\n",
    "Y_validation = y[400:450]\n",
    "\n",
    "X_test = X[450:501]\n",
    "Y_test = y[450:501]"
   ]
  },
  {
   "cell_type": "code",
   "execution_count": 6,
   "metadata": {},
   "outputs": [],
   "source": [
    "ss = StandardScaler()\n",
    "\n",
    "X_train = torch.FloatTensor(ss.fit_transform(X_train))\n",
    "Y_train = torch.LongTensor(Y_train)\n",
    "\n",
    "X_test = torch.FloatTensor(ss.fit_transform(X_test))\n",
    "Y_test = torch.LongTensor(Y_test)\n",
    "\n",
    "X_validation = torch.FloatTensor(ss.fit_transform(X_validation))\n",
    "Y_validation = torch.LongTensor(Y_validation)"
   ]
  },
  {
   "cell_type": "code",
   "execution_count": 7,
   "metadata": {},
   "outputs": [
    {
     "output_type": "execute_result",
     "data": {
      "text/plain": [
       "torch.Size([400])"
      ]
     },
     "metadata": {},
     "execution_count": 7
    }
   ],
   "source": [
    "Y_train.size()"
   ]
  },
  {
   "cell_type": "code",
   "execution_count": 30,
   "metadata": {},
   "outputs": [
    {
     "output_type": "execute_result",
     "data": {
      "text/plain": [
       "Classifier(\n",
       "  (fc1): Linear(in_features=193, out_features=128, bias=True)\n",
       "  (fc2): Linear(in_features=128, out_features=128, bias=True)\n",
       "  (fc3): Linear(in_features=128, out_features=100, bias=True)\n",
       "  (fc4): Linear(in_features=100, out_features=100, bias=True)\n",
       ")"
      ]
     },
     "metadata": {},
     "execution_count": 30
    }
   ],
   "source": [
    "class Classifier(nn.Module):\n",
    "    def __init__(self, input_feat, output_feat):\n",
    "        super().__init__()\n",
    "        self.fc1 = nn.Linear(input_feat, 128)\n",
    "        self.fc2 = nn.Linear(128, 128)\n",
    "        self.fc3 = nn.Linear(128, 100)\n",
    "        self.fc4 = nn.Linear(100, output_feat)\n",
    "        \n",
    "    def forward(self, x):\n",
    "        x = F.relu(self.fc1(x))\n",
    "        x = F.relu(self.fc2(x))\n",
    "        x = F.relu(self.fc3(x))\n",
    "        x = F.log_softmax(self.fc4(x), dim=0)\n",
    "        \n",
    "        return x\n",
    "\n",
    "model = Classifier(input_feat=X_train.size()[1], output_feat=100)\n",
    "model"
   ]
  },
  {
   "cell_type": "code",
   "execution_count": 31,
   "metadata": {
    "tags": []
   },
   "outputs": [
    {
     "output_type": "stream",
     "name": "stdout",
     "text": [
      "0\n",
      "Epoch: 1 \tTraining Loss: 51.342633 \tValidation Loss: 29.619094\n",
      "Validation loss decreased (inf --> 29.619094).  Saving model ...\n",
      "1\n",
      "Epoch: 2 \tTraining Loss: 48.551059 \tValidation Loss: 29.550127\n",
      "Validation loss decreased (29.619094 --> 29.550127).  Saving model ...\n",
      "2\n",
      "Epoch: 3 \tTraining Loss: 41.792192 \tValidation Loss: 29.873096\n",
      "3\n",
      "Epoch: 4 \tTraining Loss: 33.728293 \tValidation Loss: 31.480416\n",
      "4\n",
      "Epoch: 5 \tTraining Loss: 27.071388 \tValidation Loss: 33.143778\n",
      "5\n",
      "Epoch: 6 \tTraining Loss: 22.527772 \tValidation Loss: 35.131792\n",
      "6\n",
      "Epoch: 7 \tTraining Loss: 19.685643 \tValidation Loss: 37.569923\n",
      "7\n",
      "Epoch: 8 \tTraining Loss: 18.201764 \tValidation Loss: 39.815242\n",
      "8\n",
      "Epoch: 9 \tTraining Loss: 17.450069 \tValidation Loss: 41.379039\n",
      "9\n",
      "Epoch: 10 \tTraining Loss: 17.042258 \tValidation Loss: 42.776940\n",
      "10\n",
      "Epoch: 11 \tTraining Loss: 16.798160 \tValidation Loss: 43.632821\n",
      "11\n",
      "Epoch: 12 \tTraining Loss: 16.707576 \tValidation Loss: 44.220886\n",
      "12\n",
      "Epoch: 13 \tTraining Loss: 16.681742 \tValidation Loss: 44.486553\n",
      "13\n",
      "Epoch: 14 \tTraining Loss: 16.570261 \tValidation Loss: 44.538654\n",
      "14\n",
      "Epoch: 15 \tTraining Loss: 16.447557 \tValidation Loss: 45.076110\n",
      "15\n",
      "Epoch: 16 \tTraining Loss: 16.390622 \tValidation Loss: 44.922034\n",
      "16\n",
      "Epoch: 17 \tTraining Loss: 16.330607 \tValidation Loss: 45.183777\n",
      "17\n",
      "Epoch: 18 \tTraining Loss: 16.297562 \tValidation Loss: 45.227818\n",
      "18\n",
      "Epoch: 19 \tTraining Loss: 16.265379 \tValidation Loss: 45.397245\n",
      "19\n",
      "Epoch: 20 \tTraining Loss: 16.258481 \tValidation Loss: 45.529901\n",
      "20\n",
      "Epoch: 21 \tTraining Loss: 16.265710 \tValidation Loss: 45.605624\n",
      "21\n",
      "Epoch: 22 \tTraining Loss: 16.281728 \tValidation Loss: 45.592482\n",
      "22\n",
      "Epoch: 23 \tTraining Loss: 16.277922 \tValidation Loss: 45.710351\n",
      "23\n",
      "Epoch: 24 \tTraining Loss: 16.274929 \tValidation Loss: 45.549644\n",
      "24\n",
      "Epoch: 25 \tTraining Loss: 16.272408 \tValidation Loss: 45.522017\n",
      "25\n",
      "Epoch: 26 \tTraining Loss: 16.273592 \tValidation Loss: 45.378258\n",
      "26\n",
      "Epoch: 27 \tTraining Loss: 16.240560 \tValidation Loss: 45.397691\n",
      "27\n",
      "Epoch: 28 \tTraining Loss: 16.227201 \tValidation Loss: 45.261060\n",
      "28\n",
      "Epoch: 29 \tTraining Loss: 16.219810 \tValidation Loss: 45.446994\n",
      "29\n",
      "Epoch: 30 \tTraining Loss: 16.217220 \tValidation Loss: 45.263788\n",
      "30\n",
      "Epoch: 31 \tTraining Loss: 16.211531 \tValidation Loss: 45.434101\n",
      "31\n",
      "Epoch: 32 \tTraining Loss: 16.209451 \tValidation Loss: 45.321328\n",
      "32\n",
      "Epoch: 33 \tTraining Loss: 16.201192 \tValidation Loss: 45.274569\n",
      "33\n",
      "Epoch: 34 \tTraining Loss: 16.191797 \tValidation Loss: 45.315660\n",
      "34\n",
      "Epoch: 35 \tTraining Loss: 16.172610 \tValidation Loss: 45.164065\n",
      "35\n",
      "Epoch: 36 \tTraining Loss: 16.167609 \tValidation Loss: 45.112936\n",
      "36\n",
      "Epoch: 37 \tTraining Loss: 16.158467 \tValidation Loss: 44.977596\n",
      "37\n",
      "Epoch: 38 \tTraining Loss: 16.154930 \tValidation Loss: 45.012770\n",
      "38\n",
      "Epoch: 39 \tTraining Loss: 16.146538 \tValidation Loss: 45.056169\n",
      "39\n",
      "Epoch: 40 \tTraining Loss: 16.134531 \tValidation Loss: 45.114935\n",
      "40\n",
      "Epoch: 41 \tTraining Loss: 16.129362 \tValidation Loss: 45.146834\n",
      "41\n",
      "Epoch: 42 \tTraining Loss: 16.128404 \tValidation Loss: 45.424030\n",
      "42\n",
      "Epoch: 43 \tTraining Loss: 16.125661 \tValidation Loss: 45.392808\n",
      "43\n",
      "Epoch: 44 \tTraining Loss: 16.134257 \tValidation Loss: 45.631195\n",
      "44\n",
      "Epoch: 45 \tTraining Loss: 16.135782 \tValidation Loss: 45.590716\n",
      "45\n",
      "Epoch: 46 \tTraining Loss: 16.159692 \tValidation Loss: 45.739350\n",
      "46\n",
      "Epoch: 47 \tTraining Loss: 16.154470 \tValidation Loss: 45.770795\n",
      "47\n",
      "Epoch: 48 \tTraining Loss: 16.171708 \tValidation Loss: 45.672872\n",
      "48\n",
      "Epoch: 49 \tTraining Loss: 16.162567 \tValidation Loss: 45.771743\n",
      "49\n",
      "Epoch: 50 \tTraining Loss: 16.162694 \tValidation Loss: 45.341605\n",
      "50\n",
      "Epoch: 51 \tTraining Loss: 16.160365 \tValidation Loss: 45.391717\n",
      "51\n",
      "Epoch: 52 \tTraining Loss: 16.152880 \tValidation Loss: 44.960300\n",
      "52\n",
      "Epoch: 53 \tTraining Loss: 16.149522 \tValidation Loss: 44.977367\n",
      "53\n",
      "Epoch: 54 \tTraining Loss: 16.142381 \tValidation Loss: 44.677172\n",
      "54\n",
      "Epoch: 55 \tTraining Loss: 16.141589 \tValidation Loss: 44.889077\n",
      "55\n",
      "Epoch: 56 \tTraining Loss: 16.141475 \tValidation Loss: 44.679907\n",
      "56\n",
      "Epoch: 57 \tTraining Loss: 16.142975 \tValidation Loss: 44.800837\n",
      "57\n",
      "Epoch: 58 \tTraining Loss: 16.144153 \tValidation Loss: 44.654543\n",
      "58\n",
      "Epoch: 59 \tTraining Loss: 16.140643 \tValidation Loss: 44.601892\n",
      "59\n",
      "Epoch: 60 \tTraining Loss: 16.128666 \tValidation Loss: 44.481778\n",
      "60\n",
      "Epoch: 61 \tTraining Loss: 16.115868 \tValidation Loss: 44.486368\n",
      "61\n",
      "Epoch: 62 \tTraining Loss: 16.115558 \tValidation Loss: 44.450886\n",
      "62\n",
      "Epoch: 63 \tTraining Loss: 16.116686 \tValidation Loss: 44.479524\n",
      "63\n",
      "Epoch: 64 \tTraining Loss: 16.126642 \tValidation Loss: 44.453990\n",
      "64\n",
      "Epoch: 65 \tTraining Loss: 16.134147 \tValidation Loss: 44.558430\n",
      "65\n",
      "Epoch: 66 \tTraining Loss: 16.147325 \tValidation Loss: 44.343713\n",
      "66\n",
      "Epoch: 67 \tTraining Loss: 16.148131 \tValidation Loss: 44.264516\n",
      "67\n",
      "Epoch: 68 \tTraining Loss: 16.134706 \tValidation Loss: 44.123528\n",
      "68\n",
      "Epoch: 69 \tTraining Loss: 16.116785 \tValidation Loss: 44.100659\n",
      "69\n",
      "Epoch: 70 \tTraining Loss: 16.108882 \tValidation Loss: 44.034071\n",
      "70\n",
      "Epoch: 71 \tTraining Loss: 16.103859 \tValidation Loss: 43.899314\n",
      "71\n",
      "Epoch: 72 \tTraining Loss: 16.102065 \tValidation Loss: 44.026973\n",
      "72\n",
      "Epoch: 73 \tTraining Loss: 16.101961 \tValidation Loss: 43.917264\n",
      "73\n",
      "Epoch: 74 \tTraining Loss: 16.098282 \tValidation Loss: 44.090731\n",
      "74\n",
      "Epoch: 75 \tTraining Loss: 16.095401 \tValidation Loss: 44.066176\n",
      "75\n",
      "Epoch: 76 \tTraining Loss: 16.089821 \tValidation Loss: 44.237778\n",
      "76\n",
      "Epoch: 77 \tTraining Loss: 16.086301 \tValidation Loss: 44.278612\n",
      "77\n",
      "Epoch: 78 \tTraining Loss: 16.085311 \tValidation Loss: 44.291501\n",
      "78\n",
      "Epoch: 79 \tTraining Loss: 16.089211 \tValidation Loss: 44.367393\n",
      "79\n",
      "Epoch: 80 \tTraining Loss: 16.091563 \tValidation Loss: 44.240224\n",
      "80\n",
      "Epoch: 81 \tTraining Loss: 16.098005 \tValidation Loss: 44.422641\n",
      "81\n",
      "Epoch: 82 \tTraining Loss: 16.100146 \tValidation Loss: 44.190672\n",
      "82\n",
      "Epoch: 83 \tTraining Loss: 16.109780 \tValidation Loss: 44.349345\n",
      "83\n",
      "Epoch: 84 \tTraining Loss: 16.114123 \tValidation Loss: 44.086842\n",
      "84\n",
      "Epoch: 85 \tTraining Loss: 16.122980 \tValidation Loss: 44.160085\n",
      "85\n",
      "Epoch: 86 \tTraining Loss: 16.124725 \tValidation Loss: 44.047116\n",
      "86\n",
      "Epoch: 87 \tTraining Loss: 16.122247 \tValidation Loss: 43.984342\n",
      "87\n",
      "Epoch: 88 \tTraining Loss: 16.118367 \tValidation Loss: 44.033998\n",
      "88\n",
      "Epoch: 89 \tTraining Loss: 16.116144 \tValidation Loss: 43.785558\n",
      "89\n",
      "Epoch: 90 \tTraining Loss: 16.111710 \tValidation Loss: 43.999961\n",
      "90\n",
      "Epoch: 91 \tTraining Loss: 16.110004 \tValidation Loss: 43.799117\n",
      "91\n",
      "Epoch: 92 \tTraining Loss: 16.105824 \tValidation Loss: 44.006288\n",
      "92\n",
      "Epoch: 93 \tTraining Loss: 16.101285 \tValidation Loss: 43.710896\n",
      "93\n",
      "Epoch: 94 \tTraining Loss: 16.100175 \tValidation Loss: 43.836574\n",
      "94\n",
      "Epoch: 95 \tTraining Loss: 16.099649 \tValidation Loss: 43.688696\n",
      "95\n",
      "Epoch: 96 \tTraining Loss: 16.105349 \tValidation Loss: 43.780470\n",
      "96\n",
      "Epoch: 97 \tTraining Loss: 16.105625 \tValidation Loss: 43.534372\n",
      "97\n",
      "Epoch: 98 \tTraining Loss: 16.107863 \tValidation Loss: 43.570969\n",
      "98\n",
      "Epoch: 99 \tTraining Loss: 16.106532 \tValidation Loss: 43.490419\n",
      "99\n",
      "Epoch: 100 \tTraining Loss: 16.105459 \tValidation Loss: 43.367538\n"
     ]
    }
   ],
   "source": [
    "model = Classifier(input_feat=X_train.size()[1], output_feat=100)\n",
    "criterion = nn.NLLLoss()\n",
    "optimizer = optim.Adam(model.parameters(), lr = 0.001)\n",
    "\n",
    "# number of epochs to train the model\n",
    "n_epochs = 100\n",
    "\n",
    "# initialize tracker for minimum validation loss\n",
    "valid_loss_min = np.Inf # set initial \"min\" to +infinity\n",
    "\n",
    "train_losses = []\n",
    "valid_losses = []\n",
    "\n",
    "for epoch in range(n_epochs):\n",
    "    print(epoch)\n",
    "    # monitor training loss\n",
    "    train_loss = 0.0\n",
    "    valid_loss = 0.0\n",
    "    \n",
    "    ###################\n",
    "    # train the model #\n",
    "    ###################\n",
    "    model.train() # prep model for training\n",
    "    lower_bound_index = 0\n",
    "    for upper_bound_index in range(1,11):\n",
    "    \n",
    "        index_range = range(lower_bound_index,\n",
    "                            (upper_bound_index*(len(X_train)//10)))\n",
    "\n",
    "        lower_bound_index = upper_bound_index\n",
    "\n",
    "        x = X_train[index_range]\n",
    "        y = Y_train[index_range]\n",
    "\n",
    "        # clear the gradients of all optimized variables\n",
    "        optimizer.zero_grad()\n",
    "        # forward pass: compute predicted outputs by passing inputs to the model\n",
    "        output = model(x) # log_ps\n",
    "        # calculate the loss\n",
    "        loss = criterion(output, y)\n",
    "        # backward pass: compute gradient of the loss with respect to model parameters\n",
    "        loss.backward()\n",
    "        # perform a single optimization step (parameter update)\n",
    "        optimizer.step()\n",
    "        # update running training loss\n",
    "        train_loss += loss.item()*X_train.size(0)\n",
    "\n",
    "    ######################    \n",
    "    # validate the model #\n",
    "    ######################\n",
    "    model.eval() # prep model for evaluation\n",
    "    lower_bound_index = 0\n",
    "    for upper_bound_index in range(1,11):\n",
    "    \n",
    "        index_range = range(lower_bound_index,\n",
    "                            (upper_bound_index*(len(X_validation)//10)))\n",
    "\n",
    "        lower_bound_index = upper_bound_index\n",
    "\n",
    "        x = X_validation[index_range]\n",
    "        y = Y_validation[index_range]\n",
    "\n",
    "        # forward pass: compute predicted outputs by passing inputs to the model\n",
    "        output = model(x) # log_ps\n",
    "        # calculate the loss\n",
    "        loss = criterion(output, y) \n",
    "        # update running validation loss \n",
    "        valid_loss += loss.item()*X_validation.size(0)\n",
    "        \n",
    "    # print training/validation statistics \n",
    "    # calculate average loss over an epoch\n",
    "    train_loss = train_loss/len(X_train)\n",
    "    train_losses.append(train_loss)\n",
    "    valid_loss = valid_loss/len(X_validation)\n",
    "    valid_losses.append(valid_loss)\n",
    "    \n",
    "    print('Epoch: {} \\tTraining Loss: {:.6f} \\tValidation Loss: {:.6f}'.format(\n",
    "        epoch+1, \n",
    "        train_loss,\n",
    "        valid_loss\n",
    "        ))\n",
    "    \n",
    "    # save model if validation loss has decreased\n",
    "    if valid_loss <= valid_loss_min:\n",
    "        print('Validation loss decreased ({:.6f} --> {:.6f}).  Saving model ...'.format(\n",
    "        valid_loss_min,\n",
    "        valid_loss))\n",
    "        torch.save(model.state_dict(), 'model.pt')\n",
    "        valid_loss_min = valid_loss"
   ]
  },
  {
   "cell_type": "code",
   "execution_count": 32,
   "metadata": {},
   "outputs": [
    {
     "output_type": "execute_result",
     "data": {
      "text/plain": [
       "<All keys matched successfully>"
      ]
     },
     "metadata": {},
     "execution_count": 32
    }
   ],
   "source": [
    "model = Classifier(X_train.size()[1], 100)\n",
    "model.load_state_dict(torch.load('model.pt'))"
   ]
  },
  {
   "cell_type": "code",
   "execution_count": 47,
   "metadata": {
    "tags": []
   },
   "outputs": [
    {
     "output_type": "stream",
     "name": "stdout",
     "text": [
      "Test Loss: 0.161..  Test Accuracy: 0.000\nTest Loss: 0.559..  Test Accuracy: 0.000\nTest Loss: 1.220..  Test Accuracy: 0.000\nTest Loss: 2.165..  Test Accuracy: 0.000\nTest Loss: 3.402..  Test Accuracy: 0.000\nTest Loss: 4.995..  Test Accuracy: 0.000\nTest Loss: 6.932..  Test Accuracy: 0.000\nTest Loss: 9.205..  Test Accuracy: 0.000\nTest Loss: 11.830..  Test Accuracy: 0.000\nTest Loss: 14.791..  Test Accuracy: 0.000\n"
     ]
    }
   ],
   "source": [
    "# initialize lists to monitor test loss and accuracy\n",
    "test_loss = 0\n",
    "accuracy = 0\n",
    "test_losses = []\n",
    "\n",
    "model.eval() # prepare model for evaluation\n",
    "# To speed up calculations, forget the gradients, etc.\n",
    "with torch.no_grad():\n",
    "    lower_bound_index = 0\n",
    "    for upper_bound_index in range(1,11):\n",
    "    \n",
    "        index_range = range(lower_bound_index,\n",
    "                            (upper_bound_index*(len(X_validation)//10)))\n",
    "\n",
    "        lower_bound_index = upper_bound_index\n",
    "\n",
    "        x = X_test[index_range]\n",
    "        y = Y_test[index_range]\n",
    "        # forward pass: compute predicted outputs by passing inputs to the model\n",
    "        output = model(x) # log_ps\n",
    "        # calculate the loss\n",
    "        loss = criterion(output, y)\n",
    "        # update test loss \n",
    "        test_loss += loss.item()*x.size(0)\n",
    "        test_losses.append(test_loss)\n",
    "\n",
    "        ps = torch.exp(output) # cuz our model outputs log-probability\n",
    "        top_p, top_class = ps.topk(1, dim = 1\n",
    "        \n",
    "\n",
    "        equals = (top_class == y.view(*top_class.shape))\n",
    "        accuracy += torch.mean(equals.type(torch.FloatTensor))/(len(range(1,11)))\n",
    "\n",
    "        print(\"Test Loss: {:.3f}.. \".format(test_loss/len(X_test)),\n",
    "              \"Test Accuracy: {:.3f}\".format(accuracy))"
   ]
  },
  {
   "cell_type": "code",
   "execution_count": 35,
   "metadata": {},
   "outputs": [
    {
     "output_type": "execute_result",
     "data": {
      "text/plain": [
       "<matplotlib.legend.Legend at 0x7f786fd6e370>"
      ]
     },
     "metadata": {},
     "execution_count": 35
    },
    {
     "output_type": "display_data",
     "data": {
      "text/plain": "<Figure size 432x288 with 1 Axes>",
      "image/png": "[encoded data removed]"
     },
     "metadata": {
      "image/png": {
       "width": 368,
       "height": 248
      },
      "needs_background": "light"
     }
    }
   ],
   "source": [
    "plt.plot(train_losses, label='Training loss')\n",
    "plt.plot(valid_losses, label='Validation loss')\n",
    "plt.legend(frameon=False)"
   ]
  }
 ]
}