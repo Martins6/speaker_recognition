{
 "metadata": {
  "language_info": {
   "codemirror_mode": {
    "name": "ipython",
    "version": 3
   },
   "file_extension": ".py",
   "mimetype": "text/x-python",
   "name": "python",
   "nbconvert_exporter": "python",
   "pygments_lexer": "ipython3",
   "version": "3.8.6-final"
  },
  "orig_nbformat": 2,
  "kernelspec": {
   "name": "python3",
   "display_name": "Python 3"
  }
 },
 "nbformat": 4,
 "nbformat_minor": 2,
 "cells": [
  {
   "source": [
    "# Deep Learning with Titanic Dataset"
   ],
   "cell_type": "markdown",
   "metadata": {}
  },
  {
   "cell_type": "code",
   "execution_count": 77,
   "metadata": {},
   "outputs": [],
   "source": [
    "# Data manipulation\n",
    "import pandas as pd \n",
    "import numpy as np \n",
    "\n",
    "# For preprocessing data\n",
    "from sklearn import preprocessing\n",
    "from sklearn.model_selection import train_test_split\n",
    "\n",
    "# Neural Network\n",
    "import torch\n",
    "import torch.nn as nn\n",
    "import torch.nn.functional as F\n",
    "from torch import optim\n",
    "\n",
    "## Plotting data\n",
    "%matplotlib inline\n",
    "%config InlineBackend.figure_format = 'retina'\n",
    "\n",
    "import matplotlib.pyplot as plt"
   ]
  },
  {
   "source": [
    "## Preparing the data"
   ],
   "cell_type": "markdown",
   "metadata": {}
  },
  {
   "cell_type": "code",
   "execution_count": 78,
   "metadata": {},
   "outputs": [
    {
     "output_type": "stream",
     "name": "stdout",
     "text": [
      "Index(['PassengerId', 'Survived', 'Pclass', 'Name', 'Sex', 'Age', 'SibSp',\n       'Parch', 'Ticket', 'Fare', 'Cabin', 'Embarked'],\n      dtype='object')\n891\n"
     ]
    },
    {
     "output_type": "execute_result",
     "data": {
      "text/plain": [
       "       PassengerId    Survived      Pclass         Age       SibSp  \\\n",
       "count   891.000000  891.000000  891.000000  714.000000  891.000000   \n",
       "mean    446.000000    0.383838    2.308642   29.699118    0.523008   \n",
       "std     257.353842    0.486592    0.836071   14.526497    1.102743   \n",
       "min       1.000000    0.000000    1.000000    0.420000    0.000000   \n",
       "25%     223.500000    0.000000    2.000000   20.125000    0.000000   \n",
       "50%     446.000000    0.000000    3.000000   28.000000    0.000000   \n",
       "75%     668.500000    1.000000    3.000000   38.000000    1.000000   \n",
       "max     891.000000    1.000000    3.000000   80.000000    8.000000   \n",
       "\n",
       "            Parch        Fare  \n",
       "count  891.000000  891.000000  \n",
       "mean     0.381594   32.204208  \n",
       "std      0.806057   49.693429  \n",
       "min      0.000000    0.000000  \n",
       "25%      0.000000    7.910400  \n",
       "50%      0.000000   14.454200  \n",
       "75%      0.000000   31.000000  \n",
       "max      6.000000  512.329200  "
      ],
      "text/html": "<div>\n<style scoped>\n    .dataframe tbody tr th:only-of-type {\n        vertical-align: middle;\n    }\n\n    .dataframe tbody tr th {\n        vertical-align: top;\n    }\n\n    .dataframe thead th {\n        text-align: right;\n    }\n</style>\n<table border=\"1\" class=\"dataframe\">\n  <thead>\n    <tr style=\"text-align: right;\">\n      <th></th>\n      <th>PassengerId</th>\n      <th>Survived</th>\n      <th>Pclass</th>\n      <th>Age</th>\n      <th>SibSp</th>\n      <th>Parch</th>\n      <th>Fare</th>\n    </tr>\n  </thead>\n  <tbody>\n    <tr>\n      <th>count</th>\n      <td>891.000000</td>\n      <td>891.000000</td>\n      <td>891.000000</td>\n      <td>714.000000</td>\n      <td>891.000000</td>\n      <td>891.000000</td>\n      <td>891.000000</td>\n    </tr>\n    <tr>\n      <th>mean</th>\n      <td>446.000000</td>\n      <td>0.383838</td>\n      <td>2.308642</td>\n      <td>29.699118</td>\n      <td>0.523008</td>\n      <td>0.381594</td>\n      <td>32.204208</td>\n    </tr>\n    <tr>\n      <th>std</th>\n      <td>257.353842</td>\n      <td>0.486592</td>\n      <td>0.836071</td>\n      <td>14.526497</td>\n      <td>1.102743</td>\n      <td>0.806057</td>\n      <td>49.693429</td>\n    </tr>\n    <tr>\n      <th>min</th>\n      <td>1.000000</td>\n      <td>0.000000</td>\n      <td>1.000000</td>\n      <td>0.420000</td>\n      <td>0.000000</td>\n      <td>0.000000</td>\n      <td>0.000000</td>\n    </tr>\n    <tr>\n      <th>25%</th>\n      <td>223.500000</td>\n      <td>0.000000</td>\n      <td>2.000000</td>\n      <td>20.125000</td>\n      <td>0.000000</td>\n      <td>0.000000</td>\n      <td>7.910400</td>\n    </tr>\n    <tr>\n      <th>50%</th>\n      <td>446.000000</td>\n      <td>0.000000</td>\n      <td>3.000000</td>\n      <td>28.000000</td>\n      <td>0.000000</td>\n      <td>0.000000</td>\n      <td>14.454200</td>\n    </tr>\n    <tr>\n      <th>75%</th>\n      <td>668.500000</td>\n      <td>1.000000</td>\n      <td>3.000000</td>\n      <td>38.000000</td>\n      <td>1.000000</td>\n      <td>0.000000</td>\n      <td>31.000000</td>\n    </tr>\n    <tr>\n      <th>max</th>\n      <td>891.000000</td>\n      <td>1.000000</td>\n      <td>3.000000</td>\n      <td>80.000000</td>\n      <td>8.000000</td>\n      <td>6.000000</td>\n      <td>512.329200</td>\n    </tr>\n  </tbody>\n</table>\n</div>"
     },
     "metadata": {},
     "execution_count": 78
    }
   ],
   "source": [
    "# Load data\n",
    "df = pd.read_csv('train.csv')\n",
    "print(df.columns)\n",
    "print(len(df))\n",
    "df.describe()"
   ]
  },
  {
   "cell_type": "code",
   "execution_count": 79,
   "metadata": {},
   "outputs": [
    {
     "output_type": "stream",
     "name": "stdout",
     "text": [
      "found it\n"
     ]
    },
    {
     "output_type": "execute_result",
     "data": {
      "text/plain": [
       "       PassengerId      Pclass         Age       SibSp       Parch  \\\n",
       "count   891.000000  891.000000  891.000000  891.000000  891.000000   \n",
       "mean      0.500000    0.654321    0.367921    0.065376    0.063599   \n",
       "std       0.289162    0.418036    0.163383    0.137843    0.134343   \n",
       "min       0.000000    0.000000    0.000000    0.000000    0.000000   \n",
       "25%       0.250000    0.500000    0.271174    0.000000    0.000000   \n",
       "50%       0.500000    1.000000    0.367921    0.000000    0.000000   \n",
       "75%       0.750000    1.000000    0.434531    0.125000    0.000000   \n",
       "max       1.000000    1.000000    1.000000    1.000000    1.000000   \n",
       "\n",
       "             Fare  Sex_female    Sex_male  Embarked_C  Embarked_Q  Embarked_S  \n",
       "count  891.000000  891.000000  891.000000  891.000000  891.000000  891.000000  \n",
       "mean     0.062858    0.352413    0.647587    0.188552    0.086420    0.722783  \n",
       "std      0.096995    0.477990    0.477990    0.391372    0.281141    0.447876  \n",
       "min      0.000000    0.000000    0.000000    0.000000    0.000000    0.000000  \n",
       "25%      0.015440    0.000000    0.000000    0.000000    0.000000    0.000000  \n",
       "50%      0.028213    0.000000    1.000000    0.000000    0.000000    1.000000  \n",
       "75%      0.060508    1.000000    1.000000    0.000000    0.000000    1.000000  \n",
       "max      1.000000    1.000000    1.000000    1.000000    1.000000    1.000000  "
      ],
      "text/html": "<div>\n<style scoped>\n    .dataframe tbody tr th:only-of-type {\n        vertical-align: middle;\n    }\n\n    .dataframe tbody tr th {\n        vertical-align: top;\n    }\n\n    .dataframe thead th {\n        text-align: right;\n    }\n</style>\n<table border=\"1\" class=\"dataframe\">\n  <thead>\n    <tr style=\"text-align: right;\">\n      <th></th>\n      <th>PassengerId</th>\n      <th>Pclass</th>\n      <th>Age</th>\n      <th>SibSp</th>\n      <th>Parch</th>\n      <th>Fare</th>\n      <th>Sex_female</th>\n      <th>Sex_male</th>\n      <th>Embarked_C</th>\n      <th>Embarked_Q</th>\n      <th>Embarked_S</th>\n    </tr>\n  </thead>\n  <tbody>\n    <tr>\n      <th>count</th>\n      <td>891.000000</td>\n      <td>891.000000</td>\n      <td>891.000000</td>\n      <td>891.000000</td>\n      <td>891.000000</td>\n      <td>891.000000</td>\n      <td>891.000000</td>\n      <td>891.000000</td>\n      <td>891.000000</td>\n      <td>891.000000</td>\n      <td>891.000000</td>\n    </tr>\n    <tr>\n      <th>mean</th>\n      <td>0.500000</td>\n      <td>0.654321</td>\n      <td>0.367921</td>\n      <td>0.065376</td>\n      <td>0.063599</td>\n      <td>0.062858</td>\n      <td>0.352413</td>\n      <td>0.647587</td>\n      <td>0.188552</td>\n      <td>0.086420</td>\n      <td>0.722783</td>\n    </tr>\n    <tr>\n      <th>std</th>\n      <td>0.289162</td>\n      <td>0.418036</td>\n      <td>0.163383</td>\n      <td>0.137843</td>\n      <td>0.134343</td>\n      <td>0.096995</td>\n      <td>0.477990</td>\n      <td>0.477990</td>\n      <td>0.391372</td>\n      <td>0.281141</td>\n      <td>0.447876</td>\n    </tr>\n    <tr>\n      <th>min</th>\n      <td>0.000000</td>\n      <td>0.000000</td>\n      <td>0.000000</td>\n      <td>0.000000</td>\n      <td>0.000000</td>\n      <td>0.000000</td>\n      <td>0.000000</td>\n      <td>0.000000</td>\n      <td>0.000000</td>\n      <td>0.000000</td>\n      <td>0.000000</td>\n    </tr>\n    <tr>\n      <th>25%</th>\n      <td>0.250000</td>\n      <td>0.500000</td>\n      <td>0.271174</td>\n      <td>0.000000</td>\n      <td>0.000000</td>\n      <td>0.015440</td>\n      <td>0.000000</td>\n      <td>0.000000</td>\n      <td>0.000000</td>\n      <td>0.000000</td>\n      <td>0.000000</td>\n    </tr>\n    <tr>\n      <th>50%</th>\n      <td>0.500000</td>\n      <td>1.000000</td>\n      <td>0.367921</td>\n      <td>0.000000</td>\n      <td>0.000000</td>\n      <td>0.028213</td>\n      <td>0.000000</td>\n      <td>1.000000</td>\n      <td>0.000000</td>\n      <td>0.000000</td>\n      <td>1.000000</td>\n    </tr>\n    <tr>\n      <th>75%</th>\n      <td>0.750000</td>\n      <td>1.000000</td>\n      <td>0.434531</td>\n      <td>0.125000</td>\n      <td>0.000000</td>\n      <td>0.060508</td>\n      <td>1.000000</td>\n      <td>1.000000</td>\n      <td>0.000000</td>\n      <td>0.000000</td>\n      <td>1.000000</td>\n    </tr>\n    <tr>\n      <th>max</th>\n      <td>1.000000</td>\n      <td>1.000000</td>\n      <td>1.000000</td>\n      <td>1.000000</td>\n      <td>1.000000</td>\n      <td>1.000000</td>\n      <td>1.000000</td>\n      <td>1.000000</td>\n      <td>1.000000</td>\n      <td>1.000000</td>\n      <td>1.000000</td>\n    </tr>\n  </tbody>\n</table>\n</div>"
     },
     "metadata": {},
     "execution_count": 79
    }
   ],
   "source": [
    "def format_feats(in_feats):\n",
    "    x = in_feats.values #returns a numpy array\n",
    "    min_max_scaler = preprocessing.MinMaxScaler()\n",
    "    x_scaled = min_max_scaler.fit_transform(x)\n",
    "    return pd.DataFrame(x_scaled, columns=in_feats.columns)\n",
    "\n",
    "# Apply some data formatting\n",
    "def format_data(data):\n",
    "    # One-hot encode 'Embarked' column\n",
    "    data = pd.get_dummies(data, columns=['Sex','Embarked'])\n",
    "    # Drop columns that require additional processing\n",
    "    data = data.drop(['Name','Ticket','Cabin'], axis=1)\n",
    "    # Fill null values with the mean of the column\n",
    "    data.fillna(data.mean(), inplace=True)\n",
    "    if 'Survived' in data.columns:\n",
    "        data_y = data['Survived']\n",
    "        data_x = data.drop(['Survived'], axis=1)\n",
    "        data_x = format_feats(data_x)\n",
    "        print('found it')\n",
    "        return data_x, data_y\n",
    "    else:\n",
    "        return format_feats(data)\n",
    "\n",
    "# This should split the data into our features and our labels\n",
    "feats, labels = format_data(df)\n",
    "feats.describe()"
   ]
  },
  {
   "cell_type": "code",
   "execution_count": 80,
   "metadata": {},
   "outputs": [],
   "source": [
    "# Splitting between validation and training\n",
    "X_train, X_validation, Y_train, Y_validation = train_test_split(feats, labels, test_size = 0.1)\n",
    "X_train, X_test, Y_train, Y_test = train_test_split(X_train, Y_train, test_size = 0.3)"
   ]
  },
  {
   "cell_type": "code",
   "execution_count": 81,
   "metadata": {},
   "outputs": [],
   "source": [
    "X_train = torch.FloatTensor(X_train.to_numpy())\n",
    "Y_train = torch.LongTensor(Y_train.to_numpy())\n",
    "\n",
    "X_test = torch.FloatTensor(X_test.to_numpy())\n",
    "Y_test = torch.LongTensor(Y_test.to_numpy())\n",
    "\n",
    "X_validation = torch.FloatTensor(X_validation.to_numpy())\n",
    "Y_validation = torch.LongTensor(Y_validation.to_numpy())"
   ]
  },
  {
   "source": [
    "## Neural Network"
   ],
   "cell_type": "markdown",
   "metadata": {}
  },
  {
   "cell_type": "code",
   "execution_count": 82,
   "metadata": {},
   "outputs": [
    {
     "output_type": "execute_result",
     "data": {
      "text/plain": [
       "Classifier(\n",
       "  (fc1): Linear(in_features=11, out_features=250, bias=True)\n",
       "  (fc2): Linear(in_features=250, out_features=2, bias=True)\n",
       ")"
      ]
     },
     "metadata": {},
     "execution_count": 82
    }
   ],
   "source": [
    "class Classifier(nn.Module):\n",
    "    def __init__(self, input_feat, output_feat):\n",
    "        super(Classifier, self).__init__()\n",
    "        self.fc1 = nn.Linear(input_feat, 250) \n",
    "        self.fc2 = nn.Linear(250, output_feat)\n",
    "    \n",
    "    def forward(self, x):        \n",
    "        x = F.relu(self.fc1(x))\n",
    "        x = F.log_softmax(self.fc2(x))\n",
    "        return x\n",
    "\n",
    "model = Classifier(input_feat=X_train.size()[1], output_feat=2)\n",
    "model"
   ]
  },
  {
   "cell_type": "code",
   "execution_count": 91,
   "metadata": {},
   "outputs": [
    {
     "output_type": "stream",
     "name": "stdout",
     "text": [
      "Epoch: 1 \tTraining Loss: 5.163377 \tValidation Loss: 3.979086\n",
      "Validation loss decreased (inf --> 3.979086).  Saving model ...\n",
      "Epoch: 2 \tTraining Loss: 4.578335 \tValidation Loss: 3.984549\n",
      "Epoch: 3 \tTraining Loss: 4.216673 \tValidation Loss: 3.917773\n",
      "Validation loss decreased (3.979086 --> 3.917773).  Saving model ...\n",
      "Epoch: 4 \tTraining Loss: 4.143379 \tValidation Loss: 4.006130\n",
      "Epoch: 5 \tTraining Loss: 4.020993 \tValidation Loss: 3.992566\n"
     ]
    }
   ],
   "source": [
    "model = Classifier(input_feat=X_train.size()[1], output_feat=2)\n",
    "criterion = nn.NLLLoss()\n",
    "optimizer = optim.Adam(model.parameters(), lr = 0.01)\n",
    "\n",
    "# number of epochs to train the model\n",
    "n_epochs = 5\n",
    "\n",
    "# initialize tracker for minimum validation loss\n",
    "valid_loss_min = np.Inf # set initial \"min\" to +infinity\n",
    "\n",
    "train_losses = []\n",
    "valid_losses = []\n",
    "\n",
    "for epoch in range(n_epochs):\n",
    "    # monitor training loss\n",
    "    train_loss = 0.0\n",
    "    valid_loss = 0.0\n",
    "    \n",
    "    ###################\n",
    "    # train the model #\n",
    "    ###################\n",
    "    model.train() # prep model for training\n",
    "    lower_bound_index = 0\n",
    "    for upper_bound_index in range(1,11):\n",
    "    \n",
    "        index_range = range(lower_bound_index,\n",
    "                            (upper_bound_index*(len(X_train)//10)))\n",
    "\n",
    "        lower_bound_index = upper_bound_index\n",
    "\n",
    "        x = X_train[index_range]\n",
    "        y = Y_train[index_range]\n",
    "\n",
    "        # clear the gradients of all optimized variables\n",
    "        optimizer.zero_grad()\n",
    "        # forward pass: compute predicted outputs by passing inputs to the model\n",
    "        output = model(x) # log_ps\n",
    "        # calculate the loss\n",
    "        loss = criterion(output, y)\n",
    "        # backward pass: compute gradient of the loss with respect to model parameters\n",
    "        loss.backward()\n",
    "        # perform a single optimization step (parameter update)\n",
    "        optimizer.step()\n",
    "        # update running training loss\n",
    "        train_loss += loss.item()*X_train.size(0)\n",
    "\n",
    "    ######################    \n",
    "    # validate the model #\n",
    "    ######################\n",
    "    model.eval() # prep model for evaluation\n",
    "    lower_bound_index = 0\n",
    "    for upper_bound_index in range(1,11):\n",
    "    \n",
    "        index_range = range(lower_bound_index,\n",
    "                            (upper_bound_index*(len(X_validation)//10)))\n",
    "\n",
    "        lower_bound_index = upper_bound_index\n",
    "\n",
    "        x = X_validation[index_range]\n",
    "        y = Y_validation[index_range]\n",
    "\n",
    "        # forward pass: compute predicted outputs by passing inputs to the model\n",
    "        output = model(x) # log_ps\n",
    "        # calculate the loss\n",
    "        loss = criterion(output, y) \n",
    "        # update running validation loss \n",
    "        valid_loss += loss.item()*X_validation.size(0)\n",
    "        \n",
    "    # print training/validation statistics \n",
    "    # calculate average loss over an epoch\n",
    "    train_loss = train_loss/len(X_train)\n",
    "    train_losses.append(train_loss)\n",
    "    valid_loss = valid_loss/len(X_validation)\n",
    "    valid_losses.append(valid_loss)\n",
    "    \n",
    "    print('Epoch: {} \\tTraining Loss: {:.6f} \\tValidation Loss: {:.6f}'.format(\n",
    "        epoch+1, \n",
    "        train_loss,\n",
    "        valid_loss\n",
    "        ))\n",
    "    \n",
    "    # save model if validation loss has decreased\n",
    "    if valid_loss <= valid_loss_min:\n",
    "        print('Validation loss decreased ({:.6f} --> {:.6f}).  Saving model ...'.format(\n",
    "        valid_loss_min,\n",
    "        valid_loss))\n",
    "        torch.save(model.state_dict(), 'model.pt')\n",
    "        valid_loss_min = valid_loss"
   ]
  },
  {
   "cell_type": "code",
   "execution_count": 92,
   "metadata": {},
   "outputs": [
    {
     "output_type": "execute_result",
     "data": {
      "text/plain": [
       "<All keys matched successfully>"
      ]
     },
     "metadata": {},
     "execution_count": 92
    }
   ],
   "source": [
    "model = Classifier(X_train.size()[1], 2)\n",
    "model.load_state_dict(torch.load('model.pt'))"
   ]
  },
  {
   "source": [
    "# initialize lists to monitor test loss and accuracy\n",
    "test_loss = 0\n",
    "accuracy = 0\n",
    "test_losses = []\n",
    "\n",
    "model.eval() # prepare model for evaluation\n",
    "# To speed up calculations, forget the gradients, etc.\n",
    "with torch.no_grad():\n",
    "    lower_bound_index = 0\n",
    "    for upper_bound_index in range(1,11):\n",
    "    \n",
    "        index_range = range(lower_bound_index,\n",
    "                            (upper_bound_index*(len(X_validation)//10)))\n",
    "\n",
    "        lower_bound_index = upper_bound_index\n",
    "\n",
    "        x = X_test[index_range]\n",
    "        y = Y_test[index_range]\n",
    "        # forward pass: compute predicted outputs by passing inputs to the model\n",
    "        output = model(x) # log_ps\n",
    "        # calculate the loss\n",
    "        loss = criterion(output, y)\n",
    "        # update test loss \n",
    "        test_loss += loss.item()*x.size(0)\n",
    "        test_losses.append(test_loss)\n",
    "\n",
    "        ps = torch.exp(output) # cuz our model outputs log-probability\n",
    "        top_p, top_class = ps.topk(1, dim = 1)\n",
    "\n",
    "        equals = (top_class == y.view(*top_class.shape))\n",
    "        accuracy += torch.mean(equals.type(torch.FloatTensor))/(len(range(1,11)))\n",
    "\n",
    "        print(\"Test Loss: {:.3f}.. \".format(test_loss/len(X_test)),\n",
    "              \"Test Accuracy: {:.3f}\".format(accuracy))"
   ],
   "cell_type": "code",
   "metadata": {},
   "execution_count": 93,
   "outputs": [
    {
     "output_type": "stream",
     "name": "stdout",
     "text": [
      "Test Loss: 0.012..  Test Accuracy: 0.078\nTest Loss: 0.034..  Test Accuracy: 0.160\nTest Loss: 0.087..  Test Accuracy: 0.232\nTest Loss: 0.152..  Test Accuracy: 0.308\nTest Loss: 0.227..  Test Accuracy: 0.388\nTest Loss: 0.312..  Test Accuracy: 0.468\nTest Loss: 0.410..  Test Accuracy: 0.550\nTest Loss: 0.522..  Test Accuracy: 0.634\nTest Loss: 0.642..  Test Accuracy: 0.717\nTest Loss: 0.797..  Test Accuracy: 0.799\n"
     ]
    }
   ]
  },
  {
   "cell_type": "code",
   "execution_count": 94,
   "metadata": {},
   "outputs": [
    {
     "output_type": "execute_result",
     "data": {
      "text/plain": [
       "<matplotlib.legend.Legend at 0x227a9a26310>"
      ]
     },
     "metadata": {},
     "execution_count": 94
    },
    {
     "output_type": "display_data",
     "data": {
      "text/plain": "<Figure size 432x288 with 1 Axes>",
      "image/png": "[encoded data removed]"
     },
     "metadata": {
      "image/png": {
       "width": 372,
       "height": 248
      },
      "needs_background": "light"
     }
    }
   ],
   "source": [
    "plt.plot(train_losses, label='Training loss')\n",
    "plt.plot(valid_losses, label='Validation loss')\n",
    "plt.legend(frameon=False)"
   ]
  },
  {
   "cell_type": "code",
   "execution_count": null,
   "metadata": {},
   "outputs": [],
   "source": []
  }
 ]
}