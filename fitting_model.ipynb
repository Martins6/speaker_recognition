{
 "cells": [
  {
   "source": [
    "#### Imports"
   ],
   "cell_type": "markdown",
   "metadata": {}
  },
  {
   "cell_type": "code",
   "execution_count": 18,
   "metadata": {},
   "outputs": [],
   "source": [
    "import IPython.display as ipd\n",
    "# % pylab inline\n",
    "import os\n",
    "import pandas as pd\n",
    "import librosa\n",
    "import glob \n",
    "import librosa.display\n",
    "import random\n",
    "\n",
    "from sklearn.preprocessing import StandardScaler\n",
    "from sklearn.model_selection import train_test_split\n",
    "\n",
    "from keras.utils.np_utils import to_categorical\n",
    "\n",
    "import numpy as np\n",
    "from keras.models import Sequential\n",
    "from keras.layers import Dense, Dropout, Activation, Flatten\n",
    "from keras.layers import Convolution2D, MaxPooling2D\n",
    "from keras.optimizers import Adam\n",
    "from keras.utils import np_utils\n",
    "from sklearn import metrics \n",
    "\n",
    "from sklearn.datasets import make_regression\n",
    "from sklearn.preprocessing import StandardScaler\n",
    "from sklearn import metrics\n",
    "from sklearn.model_selection import train_test_split, GridSearchCV\n",
    "\n",
    "from tensorflow.keras.models import Sequential\n",
    "from tensorflow.keras.layers import Dense, Dropout \n",
    "from tensorflow.keras.wrappers.scikit_learn import KerasRegressor\n",
    "\n",
    "from keras.callbacks import EarlyStopping\n",
    "\n",
    "from keras import regularizers\n",
    "\n",
    "from sklearn.preprocessing import LabelEncoder\n",
    "\n",
    "from datetime import datetime\n",
    "\n",
    "import os"
   ]
  },
  {
   "cell_type": "code",
   "execution_count": 4,
   "metadata": {},
   "outputs": [],
   "source": [
    "# pip install librosa"
   ]
  },
  {
   "cell_type": "markdown",
   "metadata": {},
   "source": [
    "#### Reading the files from our folder and creating a dataframe from it"
   ]
  },
  {
   "cell_type": "code",
   "execution_count": 5,
   "metadata": {},
   "outputs": [],
   "source": [
    "#list the files\n",
    "filelist = os.listdir('male') \n",
    "#read them into pandas\n",
    "df_male = pd.DataFrame(filelist)"
   ]
  },
  {
   "cell_type": "code",
   "execution_count": 6,
   "metadata": {},
   "outputs": [],
   "source": [
    "# Adding the 1 label to the dataframe representing male\n",
    "df_male['label']='1'"
   ]
  },
  {
   "cell_type": "code",
   "execution_count": 7,
   "metadata": {},
   "outputs": [],
   "source": [
    "# Renaming the column name to file\n",
    "df_male = df_male.rename(columns={0:'file'})"
   ]
  },
  {
   "cell_type": "code",
   "execution_count": 50,
   "metadata": {},
   "outputs": [
    {
     "data": {
      "text/html": [
       "<div>\n",
       "<style scoped>\n",
       "    .dataframe tbody tr th:only-of-type {\n",
       "        vertical-align: middle;\n",
       "    }\n",
       "\n",
       "    .dataframe tbody tr th {\n",
       "        vertical-align: top;\n",
       "    }\n",
       "\n",
       "    .dataframe thead th {\n",
       "        text-align: right;\n",
       "    }\n",
       "</style>\n",
       "<table border=\"1\" class=\"dataframe\">\n",
       "  <thead>\n",
       "    <tr style=\"text-align: right;\">\n",
       "      <th></th>\n",
       "      <th>file</th>\n",
       "      <th>label</th>\n",
       "    </tr>\n",
       "  </thead>\n",
       "  <tbody>\n",
       "    <tr>\n",
       "      <th>0</th>\n",
       "      <td>2893-139322-0000.flac</td>\n",
       "      <td>1</td>\n",
       "    </tr>\n",
       "    <tr>\n",
       "      <th>1</th>\n",
       "      <td>1034-121119-0071.flac</td>\n",
       "      <td>1</td>\n",
       "    </tr>\n",
       "    <tr>\n",
       "      <th>2</th>\n",
       "      <td>78-369-0018.flac</td>\n",
       "      <td>1</td>\n",
       "    </tr>\n",
       "    <tr>\n",
       "      <th>3</th>\n",
       "      <td>322-124147-0038.flac</td>\n",
       "      <td>1</td>\n",
       "    </tr>\n",
       "    <tr>\n",
       "      <th>4</th>\n",
       "      <td>831-130739-0049.flac</td>\n",
       "      <td>1</td>\n",
       "    </tr>\n",
       "  </tbody>\n",
       "</table>\n",
       "</div>"
      ],
      "text/plain": [
       "                    file label\n",
       "0  2893-139322-0000.flac     1\n",
       "1  1034-121119-0071.flac     1\n",
       "2       78-369-0018.flac     1\n",
       "3   322-124147-0038.flac     1\n",
       "4   831-130739-0049.flac     1"
      ]
     },
     "execution_count": 50,
     "metadata": {},
     "output_type": "execute_result"
    }
   ],
   "source": [
    "df_male.head()"
   ]
  },
  {
   "cell_type": "code",
   "execution_count": 10,
   "metadata": {},
   "outputs": [
    {
     "data": {
      "text/html": [
       "<div>\n",
       "<style scoped>\n",
       "    .dataframe tbody tr th:only-of-type {\n",
       "        vertical-align: middle;\n",
       "    }\n",
       "\n",
       "    .dataframe tbody tr th {\n",
       "        vertical-align: top;\n",
       "    }\n",
       "\n",
       "    .dataframe thead th {\n",
       "        text-align: right;\n",
       "    }\n",
       "</style>\n",
       "<table border=\"1\" class=\"dataframe\">\n",
       "  <thead>\n",
       "    <tr style=\"text-align: right;\">\n",
       "      <th></th>\n",
       "      <th>file</th>\n",
       "      <th>label</th>\n",
       "    </tr>\n",
       "  </thead>\n",
       "  <tbody>\n",
       "  </tbody>\n",
       "</table>\n",
       "</div>"
      ],
      "text/plain": [
       "Empty DataFrame\n",
       "Columns: [file, label]\n",
       "Index: []"
      ]
     },
     "execution_count": 10,
     "metadata": {},
     "output_type": "execute_result"
    }
   ],
   "source": [
    "# Checking for a file that gets automatically generated and we need to drop \n",
    "df_male[df_male['file']=='.DS_Store']"
   ]
  },
  {
   "cell_type": "markdown",
   "metadata": {},
   "source": [
    "Doing the same for the female folder"
   ]
  },
  {
   "cell_type": "code",
   "execution_count": 35,
   "metadata": {},
   "outputs": [],
   "source": [
    "filelist = os.listdir('female') \n",
    "#read them into pandas\n",
    "df_female = pd.DataFrame(filelist)"
   ]
  },
  {
   "cell_type": "code",
   "execution_count": 36,
   "metadata": {},
   "outputs": [],
   "source": [
    "df_female['label']='0'"
   ]
  },
  {
   "cell_type": "code",
   "execution_count": 37,
   "metadata": {},
   "outputs": [],
   "source": [
    "df_female = df_female.rename(columns={0:'file'})"
   ]
  },
  {
   "cell_type": "code",
   "execution_count": 49,
   "metadata": {},
   "outputs": [
    {
     "data": {
      "text/html": [
       "<div>\n",
       "<style scoped>\n",
       "    .dataframe tbody tr th:only-of-type {\n",
       "        vertical-align: middle;\n",
       "    }\n",
       "\n",
       "    .dataframe tbody tr th {\n",
       "        vertical-align: top;\n",
       "    }\n",
       "\n",
       "    .dataframe thead th {\n",
       "        text-align: right;\n",
       "    }\n",
       "</style>\n",
       "<table border=\"1\" class=\"dataframe\">\n",
       "  <thead>\n",
       "    <tr style=\"text-align: right;\">\n",
       "      <th></th>\n",
       "      <th>file</th>\n",
       "      <th>label</th>\n",
       "    </tr>\n",
       "  </thead>\n",
       "  <tbody>\n",
       "    <tr>\n",
       "      <th>0</th>\n",
       "      <td>441-128982-0010.flac</td>\n",
       "      <td>0</td>\n",
       "    </tr>\n",
       "    <tr>\n",
       "      <th>1</th>\n",
       "      <td>1502-122619-0039.flac</td>\n",
       "      <td>0</td>\n",
       "    </tr>\n",
       "    <tr>\n",
       "      <th>2</th>\n",
       "      <td>302-123504-0010.flac</td>\n",
       "      <td>0</td>\n",
       "    </tr>\n",
       "    <tr>\n",
       "      <th>3</th>\n",
       "      <td>1553-140048-0029.flac</td>\n",
       "      <td>0</td>\n",
       "    </tr>\n",
       "    <tr>\n",
       "      <th>4</th>\n",
       "      <td>32-21625-0013.flac</td>\n",
       "      <td>0</td>\n",
       "    </tr>\n",
       "  </tbody>\n",
       "</table>\n",
       "</div>"
      ],
      "text/plain": [
       "                    file label\n",
       "0   441-128982-0010.flac     0\n",
       "1  1502-122619-0039.flac     0\n",
       "2   302-123504-0010.flac     0\n",
       "3  1553-140048-0029.flac     0\n",
       "4     32-21625-0013.flac     0"
      ]
     },
     "execution_count": 49,
     "metadata": {},
     "output_type": "execute_result"
    }
   ],
   "source": [
    "df_female.head()"
   ]
  },
  {
   "cell_type": "code",
   "execution_count": 39,
   "metadata": {
    "scrolled": true
   },
   "outputs": [
    {
     "data": {
      "text/html": [
       "<div>\n",
       "<style scoped>\n",
       "    .dataframe tbody tr th:only-of-type {\n",
       "        vertical-align: middle;\n",
       "    }\n",
       "\n",
       "    .dataframe tbody tr th {\n",
       "        vertical-align: top;\n",
       "    }\n",
       "\n",
       "    .dataframe thead th {\n",
       "        text-align: right;\n",
       "    }\n",
       "</style>\n",
       "<table border=\"1\" class=\"dataframe\">\n",
       "  <thead>\n",
       "    <tr style=\"text-align: right;\">\n",
       "      <th></th>\n",
       "      <th>file</th>\n",
       "      <th>label</th>\n",
       "    </tr>\n",
       "  </thead>\n",
       "  <tbody>\n",
       "    <tr>\n",
       "      <th>981</th>\n",
       "      <td>.DS_Store</td>\n",
       "      <td>0</td>\n",
       "    </tr>\n",
       "  </tbody>\n",
       "</table>\n",
       "</div>"
      ],
      "text/plain": [
       "          file label\n",
       "981  .DS_Store     0"
      ]
     },
     "execution_count": 39,
     "metadata": {},
     "output_type": "execute_result"
    }
   ],
   "source": [
    "# Checking for a file that gets automatically generated and we need to drop \n",
    "df_female[df_female['file']=='.DS_Store']"
   ]
  },
  {
   "cell_type": "code",
   "execution_count": 40,
   "metadata": {},
   "outputs": [],
   "source": [
    "# Dropping the system file\n",
    "df_female.drop(981, inplace=True)"
   ]
  },
  {
   "cell_type": "code",
   "execution_count": 41,
   "metadata": {},
   "outputs": [],
   "source": [
    "# Resetting the index since we dropped a row\n",
    "df_female = df_female.reset_index(drop=True)"
   ]
  },
  {
   "cell_type": "markdown",
   "metadata": {},
   "source": [
    "Joining both dataframes together "
   ]
  },
  {
   "cell_type": "code",
   "execution_count": 43,
   "metadata": {},
   "outputs": [],
   "source": [
    "df = pd.concat([df_female, df_male], ignore_index=True)"
   ]
  },
  {
   "cell_type": "code",
   "execution_count": 47,
   "metadata": {},
   "outputs": [
    {
     "data": {
      "text/html": [
       "<div>\n",
       "<style scoped>\n",
       "    .dataframe tbody tr th:only-of-type {\n",
       "        vertical-align: middle;\n",
       "    }\n",
       "\n",
       "    .dataframe tbody tr th {\n",
       "        vertical-align: top;\n",
       "    }\n",
       "\n",
       "    .dataframe thead th {\n",
       "        text-align: right;\n",
       "    }\n",
       "</style>\n",
       "<table border=\"1\" class=\"dataframe\">\n",
       "  <thead>\n",
       "    <tr style=\"text-align: right;\">\n",
       "      <th></th>\n",
       "      <th>file</th>\n",
       "      <th>label</th>\n",
       "    </tr>\n",
       "  </thead>\n",
       "  <tbody>\n",
       "    <tr>\n",
       "      <th>0</th>\n",
       "      <td>3242-67153-0018.flac</td>\n",
       "      <td>1</td>\n",
       "    </tr>\n",
       "    <tr>\n",
       "      <th>1</th>\n",
       "      <td>26-495-0017.flac</td>\n",
       "      <td>1</td>\n",
       "    </tr>\n",
       "    <tr>\n",
       "      <th>2</th>\n",
       "      <td>2817-142371-0074.flac</td>\n",
       "      <td>0</td>\n",
       "    </tr>\n",
       "    <tr>\n",
       "      <th>3</th>\n",
       "      <td>89-219-0006.flac</td>\n",
       "      <td>0</td>\n",
       "    </tr>\n",
       "    <tr>\n",
       "      <th>4</th>\n",
       "      <td>1970-28415-0024.flac</td>\n",
       "      <td>0</td>\n",
       "    </tr>\n",
       "  </tbody>\n",
       "</table>\n",
       "</div>"
      ],
      "text/plain": [
       "                    file label\n",
       "0   3242-67153-0018.flac     1\n",
       "1       26-495-0017.flac     1\n",
       "2  2817-142371-0074.flac     0\n",
       "3       89-219-0006.flac     0\n",
       "4   1970-28415-0024.flac     0"
      ]
     },
     "execution_count": 47,
     "metadata": {},
     "output_type": "execute_result"
    }
   ],
   "source": [
    "df.head()"
   ]
  },
  {
   "cell_type": "code",
   "execution_count": 120,
   "metadata": {},
   "outputs": [],
   "source": [
    "df = df.sample(frac=1).reset_index(drop=True)"
   ]
  },
  {
   "cell_type": "markdown",
   "metadata": {},
   "source": [
    "We are going to do an split of train, validation and test with 70% train, 20% validation and 10% for test. We check that the randomized splits have balanced classes"
   ]
  },
  {
   "cell_type": "code",
   "execution_count": 121,
   "metadata": {},
   "outputs": [],
   "source": [
    "df_train = df[:9188]"
   ]
  },
  {
   "cell_type": "code",
   "execution_count": 122,
   "metadata": {},
   "outputs": [
    {
     "data": {
      "text/plain": [
       "0    0.501633\n",
       "1    0.498367\n",
       "Name: label, dtype: float64"
      ]
     },
     "execution_count": 122,
     "metadata": {},
     "output_type": "execute_result"
    }
   ],
   "source": [
    "df_train['label'].value_counts(normalize=True)"
   ]
  },
  {
   "cell_type": "code",
   "execution_count": 123,
   "metadata": {},
   "outputs": [],
   "source": [
    "df_validation = df[9188:11813]"
   ]
  },
  {
   "cell_type": "code",
   "execution_count": 124,
   "metadata": {},
   "outputs": [
    {
     "data": {
      "text/plain": [
       "1    0.502476\n",
       "0    0.497524\n",
       "Name: label, dtype: float64"
      ]
     },
     "execution_count": 124,
     "metadata": {},
     "output_type": "execute_result"
    }
   ],
   "source": [
    "df_validation['label'].value_counts(normalize=True)"
   ]
  },
  {
   "cell_type": "code",
   "execution_count": 125,
   "metadata": {},
   "outputs": [],
   "source": [
    "df_test = df[11813:13125]"
   ]
  },
  {
   "cell_type": "code",
   "execution_count": 126,
   "metadata": {},
   "outputs": [
    {
     "data": {
      "text/plain": [
       "1    0.500762\n",
       "0    0.499238\n",
       "Name: label, dtype: float64"
      ]
     },
     "execution_count": 126,
     "metadata": {},
     "output_type": "execute_result"
    }
   ],
   "source": [
    "df_test['label'].value_counts(normalize=True)"
   ]
  },
  {
   "cell_type": "markdown",
   "metadata": {},
   "source": [
    "#### Function to extract the features and label for each sound file by iterating through every row of the dataframe"
   ]
  },
  {
   "cell_type": "code",
   "execution_count": 127,
   "metadata": {},
   "outputs": [],
   "source": [
    "# Although this function was modified and many parameteres were explored with, most of it\n",
    "# came from Source 8 (sources in the READ.ME)\n",
    "\n",
    "def extract_features(files):\n",
    "    \n",
    "    # Sets the name to be the path to where the file is in my computer\n",
    "    file_name = os.path.join(os.path.abspath('voice')+'/'+str(files.file))\n",
    "\n",
    "    # Loads the audio file as a floating point time series and assigns the default sample rate\n",
    "    # Sample rate is set to 22050 by default\n",
    "    X, sample_rate = librosa.load(file_name, res_type='kaiser_fast') \n",
    "\n",
    "    # Generate Mel-frequency cepstral coefficients (MFCCs) from a time series \n",
    "    mfccs = np.mean(librosa.feature.mfcc(y=X, sr=sample_rate, n_mfcc=40).T,axis=0)\n",
    "\n",
    "    # Generates a Short-time Fourier transform (STFT) to use in the chroma_stft\n",
    "    stft = np.abs(librosa.stft(X))\n",
    "\n",
    "    # Computes a chromagram from a waveform or power spectrogram.\n",
    "    chroma = np.mean(librosa.feature.chroma_stft(S=stft, sr=sample_rate).T,axis=0)\n",
    "\n",
    "    # Computes a mel-scaled spectrogram.\n",
    "    mel = np.mean(librosa.feature.melspectrogram(X, sr=sample_rate).T,axis=0)\n",
    "\n",
    "    # Computes spectral contrast\n",
    "    contrast = np.mean(librosa.feature.spectral_contrast(S=stft, sr=sample_rate).T,axis=0)\n",
    "\n",
    "    # Computes the tonal centroid features (tonnetz)\n",
    "    tonnetz = np.mean(librosa.feature.tonnetz(y=librosa.effects.harmonic(X),\n",
    "    sr=sample_rate).T,axis=0)\n",
    "        \n",
    "    \n",
    "    # We add also the classes of each file as a label at the end\n",
    "    label = files.label\n",
    "\n",
    "    return mfccs, chroma, mel, contrast, tonnetz, label"
   ]
  },
  {
   "cell_type": "code",
   "execution_count": 128,
   "metadata": {},
   "outputs": [],
   "source": [
    "# Code to start the timer to see how long it takes to extract the features\n",
    "startTime = datetime.now()"
   ]
  },
  {
   "cell_type": "code",
   "execution_count": 129,
   "metadata": {},
   "outputs": [
    {
     "name": "stderr",
     "output_type": "stream",
     "text": [
      "/Users/jurgenarias/anaconda3/envs/dsi/lib/python3.7/site-packages/librosa/core/pitch.py:146: UserWarning: Trying to estimate tuning from empty frequency set.\n",
      "  warnings.warn('Trying to estimate tuning from empty frequency set.')\n"
     ]
    }
   ],
   "source": [
    "# Applying the function to the train data by accessing each row of the dataframe\n",
    "features_label = df.apply(extract_features, axis=1)"
   ]
  },
  {
   "cell_type": "code",
   "execution_count": 130,
   "metadata": {},
   "outputs": [
    {
     "name": "stdout",
     "output_type": "stream",
     "text": [
      "2:53:17.949280\n"
     ]
    }
   ],
   "source": [
    "# Code to see how long it took\n",
    "print(datetime.now() - startTime)"
   ]
  },
  {
   "cell_type": "code",
   "execution_count": 131,
   "metadata": {},
   "outputs": [
    {
     "data": {
      "text/plain": [
       "0        ([-366.63562, 96.04874, -69.84662, 76.36943, -...\n",
       "1        ([-355.8541, 129.1912, -4.7562523, 35.801697, ...\n",
       "2        ([-319.53256, 103.086426, -25.932623, 36.51116...\n",
       "3        ([-362.99786, 147.51451, -17.131031, 53.30303,...\n",
       "4        ([-321.77286, 99.46373, -42.24004, 57.643738, ...\n",
       "                               ...                        \n",
       "13120    ([-326.3073, 99.980125, -57.006733, 46.3745, -...\n",
       "13121    ([-341.955, 120.1708, -42.99838, 64.313225, -2...\n",
       "13122    ([-337.32944, 89.35785, -45.532562, 64.81992, ...\n",
       "13123    ([-380.5992, 108.11871, -26.819942, 27.901894,...\n",
       "13124    ([-295.24078, 112.396, -58.156876, 69.69957, -...\n",
       "Length: 13125, dtype: object"
      ]
     },
     "execution_count": 131,
     "metadata": {},
     "output_type": "execute_result"
    }
   ],
   "source": [
    "# Checking how the output looks\n",
    "features_label"
   ]
  },
  {
   "cell_type": "code",
   "execution_count": null,
   "metadata": {},
   "outputs": [],
   "source": [
    "# The next code in markdown saves the numpy array (in case our kernel restarts or \n",
    "# anything happens, because it takes long to extract the features)\n",
    "\n",
    "# np.save('features_label', features_label)"
   ]
  },
  {
   "cell_type": "code",
   "execution_count": null,
   "metadata": {},
   "outputs": [],
   "source": [
    "# The next code loads the saved numpy array of our extracted features\n",
    "# features_label = np.load('features_label.npy', allow_pickle=True)"
   ]
  },
  {
   "cell_type": "code",
   "execution_count": 154,
   "metadata": {
    "scrolled": true
   },
   "outputs": [],
   "source": [
    "# We create an empty list where we will concatenate all the features into one long feature\n",
    "# for each file to feed into our neural network \n",
    "\n",
    "features = []\n",
    "for i in range(0, len(features_label)):\n",
    "    features.append(np.concatenate((features_label[i][0], features_label[i][1], \n",
    "                features_label[i][2], features_label[i][3],\n",
    "                features_label[i][4]), axis=0))"
   ]
  },
  {
   "cell_type": "code",
   "execution_count": 155,
   "metadata": {},
   "outputs": [
    {
     "data": {
      "text/plain": [
       "13125"
      ]
     },
     "execution_count": 155,
     "metadata": {},
     "output_type": "execute_result"
    }
   ],
   "source": [
    "len(features)"
   ]
  },
  {
   "cell_type": "markdown",
   "metadata": {},
   "source": [
    "#### We will add the speaker id to our dataframe to have that as the label for our model and predict speakers from their voice"
   ]
  },
  {
   "cell_type": "code",
   "execution_count": 534,
   "metadata": {},
   "outputs": [],
   "source": [
    "# We create an empty list where we will append all the speakers ids for each row of our\n",
    "# dataframe by slicing the file name since we know the id is the first numbers before the hash\n",
    "speaker = []\n",
    "for i in range(0, len(df)):\n",
    "    speaker.append(df['file'][i].split('-')[0])"
   ]
  },
  {
   "cell_type": "code",
   "execution_count": 538,
   "metadata": {},
   "outputs": [],
   "source": [
    "# Now we create the speaker column in our dataframe and set it equal to our speaker list\n",
    "df['speaker'] = speaker"
   ]
  },
  {
   "cell_type": "code",
   "execution_count": 540,
   "metadata": {},
   "outputs": [
    {
     "data": {
      "text/html": [
       "<div>\n",
       "<style scoped>\n",
       "    .dataframe tbody tr th:only-of-type {\n",
       "        vertical-align: middle;\n",
       "    }\n",
       "\n",
       "    .dataframe tbody tr th {\n",
       "        vertical-align: top;\n",
       "    }\n",
       "\n",
       "    .dataframe thead th {\n",
       "        text-align: right;\n",
       "    }\n",
       "</style>\n",
       "<table border=\"1\" class=\"dataframe\">\n",
       "  <thead>\n",
       "    <tr style=\"text-align: right;\">\n",
       "      <th></th>\n",
       "      <th>file</th>\n",
       "      <th>label</th>\n",
       "      <th>speaker</th>\n",
       "    </tr>\n",
       "  </thead>\n",
       "  <tbody>\n",
       "    <tr>\n",
       "      <th>0</th>\n",
       "      <td>289-121652-0001.flac</td>\n",
       "      <td>0</td>\n",
       "      <td>289</td>\n",
       "    </tr>\n",
       "    <tr>\n",
       "      <th>1</th>\n",
       "      <td>1363-135842-0026.flac</td>\n",
       "      <td>0</td>\n",
       "      <td>1363</td>\n",
       "    </tr>\n",
       "    <tr>\n",
       "      <th>2</th>\n",
       "      <td>302-123516-0003.flac</td>\n",
       "      <td>0</td>\n",
       "      <td>302</td>\n",
       "    </tr>\n",
       "    <tr>\n",
       "      <th>3</th>\n",
       "      <td>233-134440-0044.flac</td>\n",
       "      <td>1</td>\n",
       "      <td>233</td>\n",
       "    </tr>\n",
       "    <tr>\n",
       "      <th>4</th>\n",
       "      <td>322-124146-0001.flac</td>\n",
       "      <td>1</td>\n",
       "      <td>322</td>\n",
       "    </tr>\n",
       "  </tbody>\n",
       "</table>\n",
       "</div>"
      ],
      "text/plain": [
       "                    file label speaker\n",
       "0   289-121652-0001.flac     0     289\n",
       "1  1363-135842-0026.flac     0    1363\n",
       "2   302-123516-0003.flac     0     302\n",
       "3   233-134440-0044.flac     1     233\n",
       "4   322-124146-0001.flac     1     322"
      ]
     },
     "execution_count": 540,
     "metadata": {},
     "output_type": "execute_result"
    }
   ],
   "source": [
    "# Checking that it worked as expected\n",
    "df.head()"
   ]
  },
  {
   "cell_type": "code",
   "execution_count": 554,
   "metadata": {},
   "outputs": [
    {
     "data": {
      "text/plain": [
       "115"
      ]
     },
     "execution_count": 554,
     "metadata": {},
     "output_type": "execute_result"
    }
   ],
   "source": [
    "# Checking the number of speakers or the number of different people in our voice data\n",
    "df['speaker'].nunique()"
   ]
  },
  {
   "cell_type": "code",
   "execution_count": 545,
   "metadata": {},
   "outputs": [],
   "source": [
    "# Setting our labels to be equal to our speaker list\n",
    "labels = speaker"
   ]
  },
  {
   "cell_type": "code",
   "execution_count": 549,
   "metadata": {},
   "outputs": [
    {
     "data": {
      "text/plain": [
       "13125"
      ]
     },
     "execution_count": 549,
     "metadata": {},
     "output_type": "execute_result"
    }
   ],
   "source": [
    "# Checking the size of labels and making sure it matches the size of features\n",
    "len(labels)"
   ]
  },
  {
   "cell_type": "markdown",
   "metadata": {},
   "source": [
    "#### Checking if we have balanced classes for the whole data"
   ]
  },
  {
   "cell_type": "code",
   "execution_count": 550,
   "metadata": {
    "scrolled": true
   },
   "outputs": [
    {
     "data": {
      "text/plain": [
       "(array(['103', '1034', '1040', '1069', '1081', '1088', '1098', '1116',\n",
       "        '118', '1183', '1235', '1246', '125', '1263', '1334', '1355',\n",
       "        '1363', '1447', '150', '1502', '1553', '1578', '1594', '1624',\n",
       "        '163', '1723', '1737', '1743', '1841', '1867', '1898', '19',\n",
       "        '1926', '196', '1963', '1970', '198', '1992', '200', '2002',\n",
       "        '2007', '201', '2092', '211', '2136', '2159', '2182', '2196',\n",
       "        '226', '2289', '229', '233', '2384', '2391', '2416', '2436', '248',\n",
       "        '250', '2514', '2518', '254', '26', '2691', '27', '2764', '2817',\n",
       "        '2836', '2843', '289', '2893', '2911', '2952', '298', '302', '307',\n",
       "        '311', '3168', '32', '3214', '322', '3240', '3242', '328', '332',\n",
       "        '3374', '3436', '3486', '374', '39', '40', '403', '405', '412',\n",
       "        '426', '441', '445', '446', '458', '460', '481', '587', '60',\n",
       "        '625', '669', '696', '730', '78', '83', '831', '839', '87', '887',\n",
       "        '89', '909', '911'], dtype='<U4'),\n",
       " array([102,  96,  81, 108, 130, 112,  92, 126, 137,  66, 125, 117, 138,\n",
       "        109, 107,  98,  98, 129, 114, 136, 102, 118, 129, 101, 112, 112,\n",
       "        126, 103, 115, 137, 128, 111, 133, 108, 129, 122, 126,  56, 116,\n",
       "        116, 123, 127, 106, 166, 127, 110, 115, 113, 107, 130,  94, 110,\n",
       "         90, 123, 110, 116, 114, 114, 108, 112, 122, 118, 116, 138, 120,\n",
       "        122, 109, 116,  86, 107, 122, 119, 113, 113, 124, 122, 108, 117,\n",
       "        116, 122, 127, 123,  99,  89, 123, 119, 120, 113, 123, 114, 114,\n",
       "        117,  95, 116, 115,  60, 111,  82, 126, 128, 117,  97, 110, 118,\n",
       "        108, 161, 118, 123, 124, 100, 108, 115, 123, 110, 113]))"
      ]
     },
     "execution_count": 550,
     "metadata": {},
     "output_type": "execute_result"
    }
   ],
   "source": [
    "# They look somewhat balanced with a min of 56 and a max of 166, mean of 114 \n",
    "# with standard deviation of 15.89 (calculated from scipy)\n",
    "np.unique(labels, return_counts=True)"
   ]
  },
  {
   "cell_type": "markdown",
   "metadata": {},
   "source": [
    "#### Hot encoding y and pre processing X and y"
   ]
  },
  {
   "cell_type": "code",
   "execution_count": 555,
   "metadata": {},
   "outputs": [],
   "source": [
    "X = np.array(features)"
   ]
  },
  {
   "cell_type": "code",
   "execution_count": 556,
   "metadata": {},
   "outputs": [],
   "source": [
    "y = np.array(labels)"
   ]
  },
  {
   "cell_type": "code",
   "execution_count": 557,
   "metadata": {},
   "outputs": [],
   "source": [
    "# Hot encoding y\n",
    "lb = LabelEncoder()\n",
    "y = to_categorical(lb.fit_transform(y))"
   ]
  },
  {
   "cell_type": "code",
   "execution_count": 563,
   "metadata": {},
   "outputs": [
    {
     "data": {
      "text/plain": [
       "(13125, 193)"
      ]
     },
     "execution_count": 563,
     "metadata": {},
     "output_type": "execute_result"
    }
   ],
   "source": [
    "X.shape"
   ]
  },
  {
   "cell_type": "code",
   "execution_count": 564,
   "metadata": {},
   "outputs": [
    {
     "data": {
      "text/plain": [
       "(13125, 115)"
      ]
     },
     "execution_count": 564,
     "metadata": {},
     "output_type": "execute_result"
    }
   ],
   "source": [
    "y.shape"
   ]
  },
  {
   "cell_type": "code",
   "execution_count": 565,
   "metadata": {},
   "outputs": [],
   "source": [
    "# Choosing the first 9188 (70%) files to be our train data\n",
    "# Choosing the next  2625 (20%) files to be our validation data\n",
    "# Choosing the next  1312 (10%) files to be our test never before seen data\n",
    "# This is analogous to a train test split but we add a validation split and we are making\n",
    "# we do not shuffle anything since we are dealing with several time series, we already \n",
    "# checked before that we have balanced classes (analogous to stratify)\n",
    "\n",
    "X_train = X[:9188]\n",
    "y_train = y[:9188]\n",
    "\n",
    "X_val = X[9188:11813]\n",
    "y_val = y[9188:11813]\n",
    "\n",
    "X_test = X[11813:]\n",
    "y_test = y[11813:]"
   ]
  },
  {
   "cell_type": "code",
   "execution_count": 566,
   "metadata": {},
   "outputs": [],
   "source": [
    "ss = StandardScaler()\n",
    "X_train = ss.fit_transform(X_train)\n",
    "X_val = ss.transform(X_val)\n",
    "X_test = ss.transform(X_test)"
   ]
  },
  {
   "cell_type": "code",
   "execution_count": 568,
   "metadata": {},
   "outputs": [],
   "source": [
    "# Build a simple dense model with early stopping with softmax for categorical classification\n",
    "# We have 115 classes \n",
    "\n",
    "model = Sequential()\n",
    "\n",
    "model.add(Dense(193, input_shape=(193,), activation = 'relu'))\n",
    "model.add(Dropout(0.1))\n",
    "\n",
    "model.add(Dense(128, activation = 'relu'))\n",
    "model.add(Dropout(0.25))  \n",
    "\n",
    "model.add(Dense(128, activation = 'relu'))\n",
    "model.add(Dropout(0.5))    \n",
    "\n",
    "model.add(Dense(115, activation = 'softmax'))\n",
    "\n",
    "model.compile(loss='categorical_crossentropy', metrics=['accuracy'], optimizer='adam')\n",
    "\n",
    "early_stop = EarlyStopping(monitor='val_loss', min_delta=0, patience=100, verbose=1, mode='auto')"
   ]
  },
  {
   "cell_type": "code",
   "execution_count": 569,
   "metadata": {},
   "outputs": [
    {
     "name": "stdout",
     "output_type": "stream",
     "text": [
      "Train on 9188 samples, validate on 2625 samples\n",
      "Epoch 1/100\n",
      "9188/9188 [==============================] - 1s 86us/sample - loss: 4.5364 - accuracy: 0.0593 - val_loss: 3.8447 - val_accuracy: 0.3337\n",
      "Epoch 2/100\n",
      "9188/9188 [==============================] - 0s 22us/sample - loss: 3.4126 - accuracy: 0.2182 - val_loss: 2.0194 - val_accuracy: 0.6872\n",
      "Epoch 3/100\n",
      "9188/9188 [==============================] - 0s 21us/sample - loss: 2.2742 - accuracy: 0.4297 - val_loss: 0.9971 - val_accuracy: 0.8575\n",
      "Epoch 4/100\n",
      "9188/9188 [==============================] - 0s 21us/sample - loss: 1.5719 - accuracy: 0.5832 - val_loss: 0.5514 - val_accuracy: 0.9166\n",
      "Epoch 5/100\n",
      "9188/9188 [==============================] - 0s 22us/sample - loss: 1.1596 - accuracy: 0.6836 - val_loss: 0.3416 - val_accuracy: 0.9497\n",
      "Epoch 6/100\n",
      "9188/9188 [==============================] - 0s 20us/sample - loss: 0.8863 - accuracy: 0.7527 - val_loss: 0.2185 - val_accuracy: 0.9684\n",
      "Epoch 7/100\n",
      "9188/9188 [==============================] - 0s 22us/sample - loss: 0.7002 - accuracy: 0.8014 - val_loss: 0.1555 - val_accuracy: 0.9768\n",
      "Epoch 8/100\n",
      "9188/9188 [==============================] - 0s 20us/sample - loss: 0.5846 - accuracy: 0.8343 - val_loss: 0.1138 - val_accuracy: 0.9817\n",
      "Epoch 9/100\n",
      "9188/9188 [==============================] - 0s 21us/sample - loss: 0.5116 - accuracy: 0.8539 - val_loss: 0.0914 - val_accuracy: 0.9863\n",
      "Epoch 10/100\n",
      "9188/9188 [==============================] - 0s 19us/sample - loss: 0.4124 - accuracy: 0.8806 - val_loss: 0.0709 - val_accuracy: 0.9886\n",
      "Epoch 11/100\n",
      "9188/9188 [==============================] - 0s 21us/sample - loss: 0.3598 - accuracy: 0.8998 - val_loss: 0.0610 - val_accuracy: 0.9905\n",
      "Epoch 12/100\n",
      "9188/9188 [==============================] - 0s 22us/sample - loss: 0.3274 - accuracy: 0.9069 - val_loss: 0.0516 - val_accuracy: 0.9909\n",
      "Epoch 13/100\n",
      "9188/9188 [==============================] - 0s 23us/sample - loss: 0.2909 - accuracy: 0.9186 - val_loss: 0.0421 - val_accuracy: 0.9924\n",
      "Epoch 14/100\n",
      "9188/9188 [==============================] - 0s 21us/sample - loss: 0.2723 - accuracy: 0.9227 - val_loss: 0.0379 - val_accuracy: 0.9916\n",
      "Epoch 15/100\n",
      "9188/9188 [==============================] - 0s 20us/sample - loss: 0.2334 - accuracy: 0.9355 - val_loss: 0.0380 - val_accuracy: 0.9909\n",
      "Epoch 16/100\n",
      "9188/9188 [==============================] - 0s 24us/sample - loss: 0.2246 - accuracy: 0.9326 - val_loss: 0.0322 - val_accuracy: 0.9924\n",
      "Epoch 17/100\n",
      "9188/9188 [==============================] - 0s 22us/sample - loss: 0.2032 - accuracy: 0.9398 - val_loss: 0.0319 - val_accuracy: 0.9939\n",
      "Epoch 18/100\n",
      "9188/9188 [==============================] - 0s 23us/sample - loss: 0.1960 - accuracy: 0.9439 - val_loss: 0.0285 - val_accuracy: 0.9931\n",
      "Epoch 19/100\n",
      "9188/9188 [==============================] - 0s 21us/sample - loss: 0.1695 - accuracy: 0.9512 - val_loss: 0.0253 - val_accuracy: 0.9943\n",
      "Epoch 20/100\n",
      "9188/9188 [==============================] - 0s 23us/sample - loss: 0.1680 - accuracy: 0.9507 - val_loss: 0.0237 - val_accuracy: 0.9935\n",
      "Epoch 21/100\n",
      "9188/9188 [==============================] - 0s 23us/sample - loss: 0.1538 - accuracy: 0.9556 - val_loss: 0.0255 - val_accuracy: 0.9935\n",
      "Epoch 22/100\n",
      "9188/9188 [==============================] - 0s 23us/sample - loss: 0.1551 - accuracy: 0.9544 - val_loss: 0.0242 - val_accuracy: 0.9947\n",
      "Epoch 23/100\n",
      "9188/9188 [==============================] - 0s 23us/sample - loss: 0.1307 - accuracy: 0.9639 - val_loss: 0.0239 - val_accuracy: 0.9947\n",
      "Epoch 24/100\n",
      "9188/9188 [==============================] - 0s 22us/sample - loss: 0.1395 - accuracy: 0.9623 - val_loss: 0.0265 - val_accuracy: 0.9947\n",
      "Epoch 25/100\n",
      "9188/9188 [==============================] - 0s 18us/sample - loss: 0.1347 - accuracy: 0.9608 - val_loss: 0.0202 - val_accuracy: 0.9954\n",
      "Epoch 26/100\n",
      "9188/9188 [==============================] - 0s 19us/sample - loss: 0.1216 - accuracy: 0.9654 - val_loss: 0.0188 - val_accuracy: 0.9954\n",
      "Epoch 27/100\n",
      "9188/9188 [==============================] - 0s 18us/sample - loss: 0.1134 - accuracy: 0.9668 - val_loss: 0.0179 - val_accuracy: 0.9958\n",
      "Epoch 28/100\n",
      "9188/9188 [==============================] - 0s 19us/sample - loss: 0.1075 - accuracy: 0.9689 - val_loss: 0.0175 - val_accuracy: 0.9950\n",
      "Epoch 29/100\n",
      "9188/9188 [==============================] - 0s 19us/sample - loss: 0.1045 - accuracy: 0.9694 - val_loss: 0.0180 - val_accuracy: 0.9943\n",
      "Epoch 30/100\n",
      "9188/9188 [==============================] - 0s 18us/sample - loss: 0.0951 - accuracy: 0.9708 - val_loss: 0.0200 - val_accuracy: 0.9935\n",
      "Epoch 31/100\n",
      "9188/9188 [==============================] - 0s 19us/sample - loss: 0.0932 - accuracy: 0.9749 - val_loss: 0.0184 - val_accuracy: 0.9966\n",
      "Epoch 32/100\n",
      "9188/9188 [==============================] - 0s 18us/sample - loss: 0.0935 - accuracy: 0.9721 - val_loss: 0.0192 - val_accuracy: 0.9947\n",
      "Epoch 33/100\n",
      "9188/9188 [==============================] - 0s 22us/sample - loss: 0.0920 - accuracy: 0.9727 - val_loss: 0.0198 - val_accuracy: 0.9935\n",
      "Epoch 34/100\n",
      "9188/9188 [==============================] - 0s 20us/sample - loss: 0.0926 - accuracy: 0.9714 - val_loss: 0.0194 - val_accuracy: 0.9954\n",
      "Epoch 35/100\n",
      "9188/9188 [==============================] - 0s 22us/sample - loss: 0.0831 - accuracy: 0.9767 - val_loss: 0.0186 - val_accuracy: 0.9958\n",
      "Epoch 36/100\n",
      "9188/9188 [==============================] - 0s 22us/sample - loss: 0.0749 - accuracy: 0.9780 - val_loss: 0.0190 - val_accuracy: 0.9958\n",
      "Epoch 37/100\n",
      "9188/9188 [==============================] - 0s 20us/sample - loss: 0.0787 - accuracy: 0.9785 - val_loss: 0.0191 - val_accuracy: 0.9954\n",
      "Epoch 38/100\n",
      "9188/9188 [==============================] - 0s 22us/sample - loss: 0.0654 - accuracy: 0.9814 - val_loss: 0.0206 - val_accuracy: 0.9947\n",
      "Epoch 39/100\n",
      "9188/9188 [==============================] - 0s 21us/sample - loss: 0.0661 - accuracy: 0.9799 - val_loss: 0.0184 - val_accuracy: 0.9954\n",
      "Epoch 40/100\n",
      "9188/9188 [==============================] - 0s 20us/sample - loss: 0.0655 - accuracy: 0.9803 - val_loss: 0.0166 - val_accuracy: 0.9958\n",
      "Epoch 41/100\n",
      "9188/9188 [==============================] - 0s 21us/sample - loss: 0.0719 - accuracy: 0.9787 - val_loss: 0.0192 - val_accuracy: 0.9958\n",
      "Epoch 42/100\n",
      "9188/9188 [==============================] - 0s 23us/sample - loss: 0.0649 - accuracy: 0.9815 - val_loss: 0.0186 - val_accuracy: 0.9950\n",
      "Epoch 43/100\n",
      "9188/9188 [==============================] - ETA: 0s - loss: 0.0644 - accuracy: 0.98 - 0s 22us/sample - loss: 0.0640 - accuracy: 0.9817 - val_loss: 0.0165 - val_accuracy: 0.9958\n",
      "Epoch 44/100\n",
      "9188/9188 [==============================] - 0s 22us/sample - loss: 0.0692 - accuracy: 0.9798 - val_loss: 0.0148 - val_accuracy: 0.9966\n",
      "Epoch 45/100\n",
      "9188/9188 [==============================] - 0s 23us/sample - loss: 0.0591 - accuracy: 0.9814 - val_loss: 0.0180 - val_accuracy: 0.9958\n",
      "Epoch 46/100\n",
      "9188/9188 [==============================] - 0s 22us/sample - loss: 0.0639 - accuracy: 0.9824 - val_loss: 0.0200 - val_accuracy: 0.9954\n",
      "Epoch 47/100\n",
      "9188/9188 [==============================] - 0s 22us/sample - loss: 0.0638 - accuracy: 0.9807 - val_loss: 0.0171 - val_accuracy: 0.9954\n",
      "Epoch 48/100\n",
      "9188/9188 [==============================] - 0s 21us/sample - loss: 0.0516 - accuracy: 0.9850 - val_loss: 0.0176 - val_accuracy: 0.9954\n",
      "Epoch 49/100\n",
      "9188/9188 [==============================] - 0s 20us/sample - loss: 0.0660 - accuracy: 0.9805 - val_loss: 0.0176 - val_accuracy: 0.9966\n",
      "Epoch 50/100\n",
      "9188/9188 [==============================] - 0s 20us/sample - loss: 0.0624 - accuracy: 0.9823 - val_loss: 0.0190 - val_accuracy: 0.9962\n",
      "Epoch 51/100\n",
      "9188/9188 [==============================] - 0s 20us/sample - loss: 0.0510 - accuracy: 0.9841 - val_loss: 0.0168 - val_accuracy: 0.9966\n",
      "Epoch 52/100\n",
      "9188/9188 [==============================] - 0s 22us/sample - loss: 0.0562 - accuracy: 0.9842 - val_loss: 0.0150 - val_accuracy: 0.9966\n",
      "Epoch 53/100\n",
      "9188/9188 [==============================] - 0s 19us/sample - loss: 0.0446 - accuracy: 0.9859 - val_loss: 0.0169 - val_accuracy: 0.9970\n",
      "Epoch 54/100\n",
      "9188/9188 [==============================] - 0s 19us/sample - loss: 0.0510 - accuracy: 0.9852 - val_loss: 0.0137 - val_accuracy: 0.9970\n",
      "Epoch 55/100\n",
      "9188/9188 [==============================] - 0s 19us/sample - loss: 0.0447 - accuracy: 0.9863 - val_loss: 0.0135 - val_accuracy: 0.9970\n",
      "Epoch 56/100\n",
      "9188/9188 [==============================] - 0s 19us/sample - loss: 0.0398 - accuracy: 0.9878 - val_loss: 0.0143 - val_accuracy: 0.9966\n",
      "Epoch 57/100\n",
      "9188/9188 [==============================] - 0s 20us/sample - loss: 0.0493 - accuracy: 0.9852 - val_loss: 0.0119 - val_accuracy: 0.9973\n",
      "Epoch 58/100\n",
      "9188/9188 [==============================] - 0s 21us/sample - loss: 0.0435 - accuracy: 0.9861 - val_loss: 0.0163 - val_accuracy: 0.9966\n",
      "Epoch 59/100\n",
      "9188/9188 [==============================] - 0s 20us/sample - loss: 0.0448 - accuracy: 0.9869 - val_loss: 0.0161 - val_accuracy: 0.9954\n",
      "Epoch 60/100\n",
      "9188/9188 [==============================] - 0s 19us/sample - loss: 0.0436 - accuracy: 0.9865 - val_loss: 0.0158 - val_accuracy: 0.9954\n",
      "Epoch 61/100\n",
      "9188/9188 [==============================] - 0s 21us/sample - loss: 0.0429 - accuracy: 0.9864 - val_loss: 0.0150 - val_accuracy: 0.9970\n",
      "Epoch 62/100\n",
      "9188/9188 [==============================] - 0s 21us/sample - loss: 0.0422 - accuracy: 0.9877 - val_loss: 0.0176 - val_accuracy: 0.9958\n",
      "Epoch 63/100\n",
      "9188/9188 [==============================] - 0s 20us/sample - loss: 0.0373 - accuracy: 0.9893 - val_loss: 0.0175 - val_accuracy: 0.9966\n",
      "Epoch 64/100\n",
      "9188/9188 [==============================] - 0s 20us/sample - loss: 0.0424 - accuracy: 0.9860 - val_loss: 0.0158 - val_accuracy: 0.9966\n",
      "Epoch 65/100\n",
      "9188/9188 [==============================] - 0s 20us/sample - loss: 0.0374 - accuracy: 0.9884 - val_loss: 0.0160 - val_accuracy: 0.9966\n",
      "Epoch 66/100\n",
      "9188/9188 [==============================] - 0s 23us/sample - loss: 0.0360 - accuracy: 0.9886 - val_loss: 0.0148 - val_accuracy: 0.9970\n",
      "Epoch 67/100\n",
      "9188/9188 [==============================] - 0s 23us/sample - loss: 0.0325 - accuracy: 0.9907 - val_loss: 0.0157 - val_accuracy: 0.9966\n",
      "Epoch 68/100\n",
      "9188/9188 [==============================] - 0s 23us/sample - loss: 0.0354 - accuracy: 0.9898 - val_loss: 0.0166 - val_accuracy: 0.9973\n",
      "Epoch 69/100\n",
      "9188/9188 [==============================] - 0s 22us/sample - loss: 0.0364 - accuracy: 0.9884 - val_loss: 0.0170 - val_accuracy: 0.9962\n",
      "Epoch 70/100\n",
      "9188/9188 [==============================] - 0s 23us/sample - loss: 0.0352 - accuracy: 0.9878 - val_loss: 0.0162 - val_accuracy: 0.9970\n",
      "Epoch 71/100\n",
      "9188/9188 [==============================] - 0s 21us/sample - loss: 0.0383 - accuracy: 0.9891 - val_loss: 0.0182 - val_accuracy: 0.9962\n",
      "Epoch 72/100\n",
      "9188/9188 [==============================] - 0s 21us/sample - loss: 0.0379 - accuracy: 0.9888 - val_loss: 0.0136 - val_accuracy: 0.9962\n",
      "Epoch 73/100\n",
      "9188/9188 [==============================] - 0s 22us/sample - loss: 0.0332 - accuracy: 0.9899 - val_loss: 0.0136 - val_accuracy: 0.9962\n",
      "Epoch 74/100\n",
      "9188/9188 [==============================] - 0s 22us/sample - loss: 0.0327 - accuracy: 0.9910 - val_loss: 0.0135 - val_accuracy: 0.9966\n",
      "Epoch 75/100\n",
      "9188/9188 [==============================] - 0s 21us/sample - loss: 0.0361 - accuracy: 0.9896 - val_loss: 0.0173 - val_accuracy: 0.9954\n",
      "Epoch 76/100\n",
      "9188/9188 [==============================] - 0s 22us/sample - loss: 0.0382 - accuracy: 0.9884 - val_loss: 0.0186 - val_accuracy: 0.9950\n",
      "Epoch 77/100\n",
      "9188/9188 [==============================] - 0s 21us/sample - loss: 0.0343 - accuracy: 0.9899 - val_loss: 0.0207 - val_accuracy: 0.9954\n",
      "Epoch 78/100\n",
      "9188/9188 [==============================] - 0s 22us/sample - loss: 0.0334 - accuracy: 0.9903 - val_loss: 0.0140 - val_accuracy: 0.9966\n",
      "Epoch 79/100\n",
      "9188/9188 [==============================] - 0s 22us/sample - loss: 0.0299 - accuracy: 0.9906 - val_loss: 0.0136 - val_accuracy: 0.9970\n",
      "Epoch 80/100\n",
      "9188/9188 [==============================] - 0s 23us/sample - loss: 0.0349 - accuracy: 0.9901 - val_loss: 0.0207 - val_accuracy: 0.9954\n",
      "Epoch 81/100\n",
      "9188/9188 [==============================] - 0s 23us/sample - loss: 0.0352 - accuracy: 0.9888 - val_loss: 0.0163 - val_accuracy: 0.9970\n",
      "Epoch 82/100\n",
      "9188/9188 [==============================] - 0s 23us/sample - loss: 0.0356 - accuracy: 0.9888 - val_loss: 0.0159 - val_accuracy: 0.9958\n",
      "Epoch 83/100\n",
      "9188/9188 [==============================] - 0s 22us/sample - loss: 0.0367 - accuracy: 0.9886 - val_loss: 0.0169 - val_accuracy: 0.9958\n",
      "Epoch 84/100\n",
      "9188/9188 [==============================] - 0s 23us/sample - loss: 0.0270 - accuracy: 0.9924 - val_loss: 0.0189 - val_accuracy: 0.9954\n",
      "Epoch 85/100\n",
      "9188/9188 [==============================] - 0s 22us/sample - loss: 0.0285 - accuracy: 0.9909 - val_loss: 0.0166 - val_accuracy: 0.9954\n",
      "Epoch 86/100\n",
      "9188/9188 [==============================] - 0s 21us/sample - loss: 0.0260 - accuracy: 0.9913 - val_loss: 0.0137 - val_accuracy: 0.9958\n",
      "Epoch 87/100\n",
      "9188/9188 [==============================] - 0s 21us/sample - loss: 0.0338 - accuracy: 0.9902 - val_loss: 0.0170 - val_accuracy: 0.9954\n",
      "Epoch 88/100\n",
      "9188/9188 [==============================] - 0s 20us/sample - loss: 0.0266 - accuracy: 0.9909 - val_loss: 0.0174 - val_accuracy: 0.9966\n",
      "Epoch 89/100\n",
      "9188/9188 [==============================] - 0s 22us/sample - loss: 0.0334 - accuracy: 0.9896 - val_loss: 0.0192 - val_accuracy: 0.9954\n",
      "Epoch 90/100\n",
      "9188/9188 [==============================] - 0s 21us/sample - loss: 0.0308 - accuracy: 0.9924 - val_loss: 0.0147 - val_accuracy: 0.9973\n",
      "Epoch 91/100\n",
      "9188/9188 [==============================] - 0s 20us/sample - loss: 0.0313 - accuracy: 0.9910 - val_loss: 0.0206 - val_accuracy: 0.9950\n",
      "Epoch 92/100\n",
      "9188/9188 [==============================] - 0s 20us/sample - loss: 0.0355 - accuracy: 0.9896 - val_loss: 0.0168 - val_accuracy: 0.9958\n",
      "Epoch 93/100\n",
      "9188/9188 [==============================] - 0s 21us/sample - loss: 0.0265 - accuracy: 0.9912 - val_loss: 0.0169 - val_accuracy: 0.9962\n",
      "Epoch 94/100\n",
      "9188/9188 [==============================] - 0s 20us/sample - loss: 0.0349 - accuracy: 0.9899 - val_loss: 0.0171 - val_accuracy: 0.9966\n",
      "Epoch 95/100\n",
      "9188/9188 [==============================] - 0s 20us/sample - loss: 0.0273 - accuracy: 0.9928 - val_loss: 0.0160 - val_accuracy: 0.9966\n",
      "Epoch 96/100\n",
      "9188/9188 [==============================] - 0s 20us/sample - loss: 0.0296 - accuracy: 0.9904 - val_loss: 0.0130 - val_accuracy: 0.9973\n",
      "Epoch 97/100\n",
      "9188/9188 [==============================] - 0s 20us/sample - loss: 0.0267 - accuracy: 0.9916 - val_loss: 0.0157 - val_accuracy: 0.9966\n",
      "Epoch 98/100\n",
      "9188/9188 [==============================] - 0s 20us/sample - loss: 0.0305 - accuracy: 0.9909 - val_loss: 0.0147 - val_accuracy: 0.9966\n",
      "Epoch 99/100\n",
      "9188/9188 [==============================] - 0s 20us/sample - loss: 0.0323 - accuracy: 0.9922 - val_loss: 0.0135 - val_accuracy: 0.9947\n",
      "Epoch 100/100\n",
      "9188/9188 [==============================] - 0s 20us/sample - loss: 0.0308 - accuracy: 0.9914 - val_loss: 0.0128 - val_accuracy: 0.9973\n"
     ]
    }
   ],
   "source": [
    "# fitting the model with the train data and validation with the validation data\n",
    "# we used early stop with patience 100 because we did not want to use early stop\n",
    "# I leave the early stop regularization code in case anyone wants to use it\n",
    "\n",
    "history = model.fit(X_train, y_train, batch_size=256, epochs=100, \n",
    "                    validation_data=(X_val, y_val),\n",
    "                    callbacks=[early_stop])\n",
    "                    "
   ]
  },
  {
   "cell_type": "code",
   "execution_count": 570,
   "metadata": {},
   "outputs": [
    {
     "data": {
      "image/png": "[encoded data removed]",
      "text/plain": [
       "<Figure size 864x576 with 1 Axes>"
      ]
     },
     "metadata": {
      "needs_background": "light"
     },
     "output_type": "display_data"
    }
   ],
   "source": [
    "# Check out our train accuracy and validation accuracy over epochs.\n",
    "train_accuracy = history.history['accuracy']\n",
    "val_accuracy = history.history['val_accuracy']\n",
    "\n",
    "# Set figure size.\n",
    "plt.figure(figsize=(12, 8))\n",
    "\n",
    "# Generate line plot of training, testing loss over epochs.\n",
    "plt.plot(train_accuracy, label='Training Accuracy', color='#185fad')\n",
    "plt.plot(val_accuracy, label='Validation Accuracy', color='orange')\n",
    "\n",
    "# Set title\n",
    "plt.title('Training and Validation Accuracy by Epoch', fontsize = 25)\n",
    "plt.xlabel('Epoch', fontsize = 18)\n",
    "plt.ylabel('Categorical Crossentropy', fontsize = 18)\n",
    "plt.xticks(range(0,100,5), range(0,100,5))\n",
    "\n",
    "plt.legend(fontsize = 18);"
   ]
  },
  {
   "cell_type": "code",
   "execution_count": 571,
   "metadata": {},
   "outputs": [],
   "source": [
    "# We get our predictions from the test data\n",
    "preds = model.predict_classes(X_test)"
   ]
  },
  {
   "cell_type": "code",
   "execution_count": 579,
   "metadata": {},
   "outputs": [],
   "source": [
    "# We transform back our predictions to the speakers ids\n",
    "preds = lb.inverse_transform(preds)"
   ]
  },
  {
   "cell_type": "code",
   "execution_count": 580,
   "metadata": {},
   "outputs": [],
   "source": [
    "# We slice our dataframe to our test dataframe\n",
    "df_test = df[11813:]"
   ]
  },
  {
   "cell_type": "code",
   "execution_count": 581,
   "metadata": {},
   "outputs": [
    {
     "name": "stderr",
     "output_type": "stream",
     "text": [
      "/Users/jurgenarias/anaconda3/envs/dsi/lib/python3.7/site-packages/ipykernel_launcher.py:1: SettingWithCopyWarning: \n",
      "A value is trying to be set on a copy of a slice from a DataFrame.\n",
      "Try using .loc[row_indexer,col_indexer] = value instead\n",
      "\n",
      "See the caveats in the documentation: http://pandas.pydata.org/pandas-docs/stable/user_guide/indexing.html#returning-a-view-versus-a-copy\n",
      "  \"\"\"Entry point for launching an IPython kernel.\n"
     ]
    }
   ],
   "source": [
    "# We create a new column called preds and set it equal to our predictions\n",
    "df_test['preds'] = preds"
   ]
  },
  {
   "cell_type": "code",
   "execution_count": 582,
   "metadata": {},
   "outputs": [
    {
     "data": {
      "text/html": [
       "<div>\n",
       "<style scoped>\n",
       "    .dataframe tbody tr th:only-of-type {\n",
       "        vertical-align: middle;\n",
       "    }\n",
       "\n",
       "    .dataframe tbody tr th {\n",
       "        vertical-align: top;\n",
       "    }\n",
       "\n",
       "    .dataframe thead th {\n",
       "        text-align: right;\n",
       "    }\n",
       "</style>\n",
       "<table border=\"1\" class=\"dataframe\">\n",
       "  <thead>\n",
       "    <tr style=\"text-align: right;\">\n",
       "      <th></th>\n",
       "      <th>file</th>\n",
       "      <th>label</th>\n",
       "      <th>speaker</th>\n",
       "      <th>preds</th>\n",
       "    </tr>\n",
       "  </thead>\n",
       "  <tbody>\n",
       "    <tr>\n",
       "      <th>11813</th>\n",
       "      <td>2518-154826-0031.flac</td>\n",
       "      <td>1</td>\n",
       "      <td>2518</td>\n",
       "      <td>2518</td>\n",
       "    </tr>\n",
       "    <tr>\n",
       "      <th>11814</th>\n",
       "      <td>254-127705-0028.flac</td>\n",
       "      <td>1</td>\n",
       "      <td>254</td>\n",
       "      <td>254</td>\n",
       "    </tr>\n",
       "    <tr>\n",
       "      <th>11815</th>\n",
       "      <td>374-180298-0041.flac</td>\n",
       "      <td>1</td>\n",
       "      <td>374</td>\n",
       "      <td>374</td>\n",
       "    </tr>\n",
       "    <tr>\n",
       "      <th>11816</th>\n",
       "      <td>1926-143879-0008.flac</td>\n",
       "      <td>0</td>\n",
       "      <td>1926</td>\n",
       "      <td>1926</td>\n",
       "    </tr>\n",
       "    <tr>\n",
       "      <th>11817</th>\n",
       "      <td>1116-132847-0002.flac</td>\n",
       "      <td>0</td>\n",
       "      <td>1116</td>\n",
       "      <td>1116</td>\n",
       "    </tr>\n",
       "    <tr>\n",
       "      <th>...</th>\n",
       "      <td>...</td>\n",
       "      <td>...</td>\n",
       "      <td>...</td>\n",
       "      <td>...</td>\n",
       "    </tr>\n",
       "    <tr>\n",
       "      <th>13120</th>\n",
       "      <td>1743-142914-0013.flac</td>\n",
       "      <td>1</td>\n",
       "      <td>1743</td>\n",
       "      <td>1743</td>\n",
       "    </tr>\n",
       "    <tr>\n",
       "      <th>13121</th>\n",
       "      <td>27-123349-0032.flac</td>\n",
       "      <td>1</td>\n",
       "      <td>27</td>\n",
       "      <td>27</td>\n",
       "    </tr>\n",
       "    <tr>\n",
       "      <th>13122</th>\n",
       "      <td>1898-145724-0026.flac</td>\n",
       "      <td>0</td>\n",
       "      <td>1898</td>\n",
       "      <td>1898</td>\n",
       "    </tr>\n",
       "    <tr>\n",
       "      <th>13123</th>\n",
       "      <td>2182-181183-0001.flac</td>\n",
       "      <td>0</td>\n",
       "      <td>2182</td>\n",
       "      <td>2182</td>\n",
       "    </tr>\n",
       "    <tr>\n",
       "      <th>13124</th>\n",
       "      <td>26-495-0088.flac</td>\n",
       "      <td>1</td>\n",
       "      <td>26</td>\n",
       "      <td>26</td>\n",
       "    </tr>\n",
       "  </tbody>\n",
       "</table>\n",
       "<p>1312 rows × 4 columns</p>\n",
       "</div>"
      ],
      "text/plain": [
       "                        file label speaker preds\n",
       "11813  2518-154826-0031.flac     1    2518  2518\n",
       "11814   254-127705-0028.flac     1     254   254\n",
       "11815   374-180298-0041.flac     1     374   374\n",
       "11816  1926-143879-0008.flac     0    1926  1926\n",
       "11817  1116-132847-0002.flac     0    1116  1116\n",
       "...                      ...   ...     ...   ...\n",
       "13120  1743-142914-0013.flac     1    1743  1743\n",
       "13121    27-123349-0032.flac     1      27    27\n",
       "13122  1898-145724-0026.flac     0    1898  1898\n",
       "13123  2182-181183-0001.flac     0    2182  2182\n",
       "13124       26-495-0088.flac     1      26    26\n",
       "\n",
       "[1312 rows x 4 columns]"
      ]
     },
     "execution_count": 582,
     "metadata": {},
     "output_type": "execute_result"
    }
   ],
   "source": [
    "# Checking how our test dataframe looks like now with our predictions\n",
    "df_test"
   ]
  },
  {
   "cell_type": "code",
   "execution_count": 588,
   "metadata": {},
   "outputs": [
    {
     "data": {
      "text/html": [
       "<div>\n",
       "<style scoped>\n",
       "    .dataframe tbody tr th:only-of-type {\n",
       "        vertical-align: middle;\n",
       "    }\n",
       "\n",
       "    .dataframe tbody tr th {\n",
       "        vertical-align: top;\n",
       "    }\n",
       "\n",
       "    .dataframe thead th {\n",
       "        text-align: right;\n",
       "    }\n",
       "</style>\n",
       "<table border=\"1\" class=\"dataframe\">\n",
       "  <thead>\n",
       "    <tr style=\"text-align: right;\">\n",
       "      <th></th>\n",
       "      <th>file</th>\n",
       "      <th>label</th>\n",
       "      <th>speaker</th>\n",
       "      <th>preds</th>\n",
       "    </tr>\n",
       "  </thead>\n",
       "  <tbody>\n",
       "    <tr>\n",
       "      <th>12095</th>\n",
       "      <td>211-122442-0028.flac</td>\n",
       "      <td>0</td>\n",
       "      <td>211</td>\n",
       "      <td>2416</td>\n",
       "    </tr>\n",
       "    <tr>\n",
       "      <th>12963</th>\n",
       "      <td>696-93314-0002.flac</td>\n",
       "      <td>0</td>\n",
       "      <td>696</td>\n",
       "      <td>198</td>\n",
       "    </tr>\n",
       "  </tbody>\n",
       "</table>\n",
       "</div>"
      ],
      "text/plain": [
       "                       file label speaker preds\n",
       "12095  211-122442-0028.flac     0     211  2416\n",
       "12963   696-93314-0002.flac     0     696   198"
      ]
     },
     "execution_count": 588,
     "metadata": {},
     "output_type": "execute_result"
    }
   ],
   "source": [
    "# Checking how many speakers we got wrong\n",
    "df_test[df_test['speaker'] != df_test['preds']]"
   ]
  },
  {
   "cell_type": "code",
   "execution_count": 590,
   "metadata": {},
   "outputs": [
    {
     "data": {
      "text/plain": [
       "0.998"
      ]
     },
     "execution_count": 590,
     "metadata": {},
     "output_type": "execute_result"
    }
   ],
   "source": [
    "# Checking our model accuracy\n",
    "1-round(len(df_test[df_test['speaker'] != df_test['preds']])/len(df_test),3)"
   ]
  },
  {
   "cell_type": "markdown",
   "metadata": {},
   "source": [
    "#### 99.8% accurate on test data for classification of speakers"
   ]
  }
 ],
 "metadata": {
  "kernelspec": {
   "display_name": "Python [conda env:dsi] *",
   "language": "python",
   "name": "conda-env-dsi-py"
  },
  "language_info": {
   "codemirror_mode": {
    "name": "ipython",
    "version": 3
   },
   "file_extension": ".py",
   "mimetype": "text/x-python",
   "name": "python",
   "nbconvert_exporter": "python",
   "pygments_lexer": "ipython3",
   "version": "3.7.5"
  }
 },
 "nbformat": 4,
 "nbformat_minor": 2
}